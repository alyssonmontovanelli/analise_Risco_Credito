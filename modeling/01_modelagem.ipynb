{
 "cells": [
  {
   "cell_type": "markdown",
   "metadata": {},
   "source": [
    "# <font color = \"red\">Classificação de Risco de Crédito</font>\n",
    "\n",
    "## MODELAGEM PREDITIVA (CLASSIFICAÇÃO)\n",
    "\n",
    "<font color = \"red\">Problema de Negócio:</font> A partir de dados históricos, irei verificar os padrões que levaram os clientes de uma instituição financeira, a adentrarem, ou não, na situação de inadimplência, para posteriormente criar um \n",
    "\n",
    "<font color = \"red\">Meta de Acurácia Final:</font> ACC mínimo de 88%\n",
    "\n",
    "<font color = \"blue\">Nesta etapa, realizarei o treinamento dos modelos de classificação, para posterior comparação e teste, a fim de verificar as métricas. "
   ]
  },
  {
   "cell_type": "code",
   "execution_count": 4,
   "metadata": {},
   "outputs": [],
   "source": [
    "import pandas as pd\n",
    "import numpy as np\n",
    "import matplotlib.pyplot as plt\n",
    "import seaborn as sns\n",
    "\n",
    "\n",
    "from sklearn.model_selection import train_test_split\n",
    "from sklearn.model_selection import GridSearchCV\n",
    "\n",
    "from sklearn.metrics import precision_score, recall_score, f1_score, accuracy_score, roc_auc_score\n",
    "from sklearn.model_selection import cross_val_score\n",
    "\n",
    "from sklearn.svm import SVC\n",
    "from sklearn.linear_model import LogisticRegression\n",
    "from sklearn.neighbors import KNeighborsClassifier\n",
    "from sklearn.tree import DecisionTreeClassifier\n",
    "from sklearn.ensemble import RandomForestClassifier\n",
    "from sklearn.ensemble import ExtraTreesClassifier\n",
    "from sklearn.ensemble import AdaBoostClassifier\n",
    "\n",
    "import warnings\n",
    "warnings.filterwarnings('ignore')"
   ]
  },
  {
   "cell_type": "code",
   "execution_count": 5,
   "metadata": {},
   "outputs": [],
   "source": [
    "# Importação dos dados \n",
    "X = pd.read_csv(\"C:/Projetos Pessoais/DataScience/analise_Risco_Credito/data/X_pre_processado_5.csv\")\n",
    "y = pd.read_csv(\"C:/Projetos Pessoais/DataScience/analise_Risco_Credito/data/y_pre_processado_5.csv\")"
   ]
  },
  {
   "cell_type": "code",
   "execution_count": 6,
   "metadata": {},
   "outputs": [
    {
     "data": {
      "text/html": [
       "<div>\n",
       "<style scoped>\n",
       "    .dataframe tbody tr th:only-of-type {\n",
       "        vertical-align: middle;\n",
       "    }\n",
       "\n",
       "    .dataframe tbody tr th {\n",
       "        vertical-align: top;\n",
       "    }\n",
       "\n",
       "    .dataframe thead th {\n",
       "        text-align: right;\n",
       "    }\n",
       "</style>\n",
       "<table border=\"1\" class=\"dataframe\">\n",
       "  <thead>\n",
       "    <tr style=\"text-align: right;\">\n",
       "      <th></th>\n",
       "      <th>Renda_Anual</th>\n",
       "      <th>Anos_no_Emprego</th>\n",
       "      <th>Grau_Emprestimo</th>\n",
       "      <th>Valor</th>\n",
       "      <th>Taxa_Juros</th>\n",
       "      <th>Comprometimento_Renda</th>\n",
       "      <th>Inadimplencia_Historica</th>\n",
       "      <th>Tipo_Moradia_Hipoteca</th>\n",
       "      <th>Tipo_Moradia_Outro</th>\n",
       "      <th>Tipo_Moradia_Próprio</th>\n",
       "      <th>Motivo_Emprestimo_Educação</th>\n",
       "      <th>Motivo_Emprestimo_Empreendimento</th>\n",
       "      <th>Motivo_Emprestimo_Médico</th>\n",
       "      <th>Motivo_Emprestimo_Pessoal</th>\n",
       "      <th>Motivo_Emprestimo_Reformas Domésticas</th>\n",
       "    </tr>\n",
       "  </thead>\n",
       "  <tbody>\n",
       "    <tr>\n",
       "      <th>0</th>\n",
       "      <td>-1.903478</td>\n",
       "      <td>0.196962</td>\n",
       "      <td>1</td>\n",
       "      <td>-1.551342</td>\n",
       "      <td>0.074325</td>\n",
       "      <td>-0.663416</td>\n",
       "      <td>0</td>\n",
       "      <td>0</td>\n",
       "      <td>0</td>\n",
       "      <td>1</td>\n",
       "      <td>1</td>\n",
       "      <td>0</td>\n",
       "      <td>0</td>\n",
       "      <td>0</td>\n",
       "      <td>0</td>\n",
       "    </tr>\n",
       "    <tr>\n",
       "      <th>1</th>\n",
       "      <td>-1.891412</td>\n",
       "      <td>-0.699305</td>\n",
       "      <td>0</td>\n",
       "      <td>-1.227123</td>\n",
       "      <td>-1.184422</td>\n",
       "      <td>1.077414</td>\n",
       "      <td>0</td>\n",
       "      <td>0</td>\n",
       "      <td>0</td>\n",
       "      <td>1</td>\n",
       "      <td>0</td>\n",
       "      <td>1</td>\n",
       "      <td>0</td>\n",
       "      <td>0</td>\n",
       "      <td>0</td>\n",
       "    </tr>\n",
       "    <tr>\n",
       "      <th>2</th>\n",
       "      <td>-1.887390</td>\n",
       "      <td>0.495717</td>\n",
       "      <td>3</td>\n",
       "      <td>-1.421655</td>\n",
       "      <td>1.207196</td>\n",
       "      <td>0.032916</td>\n",
       "      <td>0</td>\n",
       "      <td>0</td>\n",
       "      <td>0</td>\n",
       "      <td>1</td>\n",
       "      <td>0</td>\n",
       "      <td>1</td>\n",
       "      <td>0</td>\n",
       "      <td>0</td>\n",
       "      <td>0</td>\n",
       "    </tr>\n",
       "    <tr>\n",
       "      <th>3</th>\n",
       "      <td>-1.855214</td>\n",
       "      <td>1.093228</td>\n",
       "      <td>1</td>\n",
       "      <td>-1.389233</td>\n",
       "      <td>0.027122</td>\n",
       "      <td>0.032916</td>\n",
       "      <td>0</td>\n",
       "      <td>1</td>\n",
       "      <td>0</td>\n",
       "      <td>0</td>\n",
       "      <td>1</td>\n",
       "      <td>0</td>\n",
       "      <td>0</td>\n",
       "      <td>0</td>\n",
       "      <td>0</td>\n",
       "    </tr>\n",
       "    <tr>\n",
       "      <th>4</th>\n",
       "      <td>-1.847975</td>\n",
       "      <td>-1.296815</td>\n",
       "      <td>0</td>\n",
       "      <td>-1.443269</td>\n",
       "      <td>-1.137219</td>\n",
       "      <td>-0.199194</td>\n",
       "      <td>0</td>\n",
       "      <td>0</td>\n",
       "      <td>0</td>\n",
       "      <td>1</td>\n",
       "      <td>0</td>\n",
       "      <td>0</td>\n",
       "      <td>0</td>\n",
       "      <td>1</td>\n",
       "      <td>0</td>\n",
       "    </tr>\n",
       "    <tr>\n",
       "      <th>...</th>\n",
       "      <td>...</td>\n",
       "      <td>...</td>\n",
       "      <td>...</td>\n",
       "      <td>...</td>\n",
       "      <td>...</td>\n",
       "      <td>...</td>\n",
       "      <td>...</td>\n",
       "      <td>...</td>\n",
       "      <td>...</td>\n",
       "      <td>...</td>\n",
       "      <td>...</td>\n",
       "      <td>...</td>\n",
       "      <td>...</td>\n",
       "      <td>...</td>\n",
       "      <td>...</td>\n",
       "    </tr>\n",
       "    <tr>\n",
       "      <th>34937</th>\n",
       "      <td>0.709549</td>\n",
       "      <td>-0.416085</td>\n",
       "      <td>4</td>\n",
       "      <td>2.555442</td>\n",
       "      <td>2.053350</td>\n",
       "      <td>1.309524</td>\n",
       "      <td>0</td>\n",
       "      <td>0</td>\n",
       "      <td>0</td>\n",
       "      <td>0</td>\n",
       "      <td>0</td>\n",
       "      <td>0</td>\n",
       "      <td>0</td>\n",
       "      <td>0</td>\n",
       "      <td>0</td>\n",
       "    </tr>\n",
       "    <tr>\n",
       "      <th>34938</th>\n",
       "      <td>-1.533943</td>\n",
       "      <td>-0.699305</td>\n",
       "      <td>3</td>\n",
       "      <td>-0.761657</td>\n",
       "      <td>1.393679</td>\n",
       "      <td>1.015354</td>\n",
       "      <td>1</td>\n",
       "      <td>0</td>\n",
       "      <td>0</td>\n",
       "      <td>0</td>\n",
       "      <td>0</td>\n",
       "      <td>0</td>\n",
       "      <td>0</td>\n",
       "      <td>1</td>\n",
       "      <td>0</td>\n",
       "    </tr>\n",
       "    <tr>\n",
       "      <th>34939</th>\n",
       "      <td>0.874144</td>\n",
       "      <td>0.959136</td>\n",
       "      <td>2</td>\n",
       "      <td>-0.120001</td>\n",
       "      <td>0.275724</td>\n",
       "      <td>-0.687167</td>\n",
       "      <td>1</td>\n",
       "      <td>1</td>\n",
       "      <td>0</td>\n",
       "      <td>0</td>\n",
       "      <td>0</td>\n",
       "      <td>0</td>\n",
       "      <td>0</td>\n",
       "      <td>0</td>\n",
       "      <td>0</td>\n",
       "    </tr>\n",
       "    <tr>\n",
       "      <th>34940</th>\n",
       "      <td>-1.112140</td>\n",
       "      <td>-0.998060</td>\n",
       "      <td>1</td>\n",
       "      <td>0.318936</td>\n",
       "      <td>-0.121854</td>\n",
       "      <td>1.975202</td>\n",
       "      <td>0</td>\n",
       "      <td>0</td>\n",
       "      <td>0</td>\n",
       "      <td>0</td>\n",
       "      <td>1</td>\n",
       "      <td>0</td>\n",
       "      <td>0</td>\n",
       "      <td>0</td>\n",
       "      <td>0</td>\n",
       "    </tr>\n",
       "    <tr>\n",
       "      <th>34941</th>\n",
       "      <td>0.325129</td>\n",
       "      <td>-0.205593</td>\n",
       "      <td>3</td>\n",
       "      <td>0.967318</td>\n",
       "      <td>1.072603</td>\n",
       "      <td>0.234527</td>\n",
       "      <td>1</td>\n",
       "      <td>0</td>\n",
       "      <td>0</td>\n",
       "      <td>0</td>\n",
       "      <td>0</td>\n",
       "      <td>0</td>\n",
       "      <td>1</td>\n",
       "      <td>0</td>\n",
       "      <td>0</td>\n",
       "    </tr>\n",
       "  </tbody>\n",
       "</table>\n",
       "<p>34942 rows × 15 columns</p>\n",
       "</div>"
      ],
      "text/plain": [
       "       Renda_Anual  Anos_no_Emprego  Grau_Emprestimo     Valor  Taxa_Juros  \\\n",
       "0        -1.903478         0.196962                1 -1.551342    0.074325   \n",
       "1        -1.891412        -0.699305                0 -1.227123   -1.184422   \n",
       "2        -1.887390         0.495717                3 -1.421655    1.207196   \n",
       "3        -1.855214         1.093228                1 -1.389233    0.027122   \n",
       "4        -1.847975        -1.296815                0 -1.443269   -1.137219   \n",
       "...            ...              ...              ...       ...         ...   \n",
       "34937     0.709549        -0.416085                4  2.555442    2.053350   \n",
       "34938    -1.533943        -0.699305                3 -0.761657    1.393679   \n",
       "34939     0.874144         0.959136                2 -0.120001    0.275724   \n",
       "34940    -1.112140        -0.998060                1  0.318936   -0.121854   \n",
       "34941     0.325129        -0.205593                3  0.967318    1.072603   \n",
       "\n",
       "       Comprometimento_Renda  Inadimplencia_Historica  Tipo_Moradia_Hipoteca  \\\n",
       "0                  -0.663416                        0                      0   \n",
       "1                   1.077414                        0                      0   \n",
       "2                   0.032916                        0                      0   \n",
       "3                   0.032916                        0                      1   \n",
       "4                  -0.199194                        0                      0   \n",
       "...                      ...                      ...                    ...   \n",
       "34937               1.309524                        0                      0   \n",
       "34938               1.015354                        1                      0   \n",
       "34939              -0.687167                        1                      1   \n",
       "34940               1.975202                        0                      0   \n",
       "34941               0.234527                        1                      0   \n",
       "\n",
       "       Tipo_Moradia_Outro  Tipo_Moradia_Próprio  Motivo_Emprestimo_Educação  \\\n",
       "0                       0                     1                           1   \n",
       "1                       0                     1                           0   \n",
       "2                       0                     1                           0   \n",
       "3                       0                     0                           1   \n",
       "4                       0                     1                           0   \n",
       "...                   ...                   ...                         ...   \n",
       "34937                   0                     0                           0   \n",
       "34938                   0                     0                           0   \n",
       "34939                   0                     0                           0   \n",
       "34940                   0                     0                           1   \n",
       "34941                   0                     0                           0   \n",
       "\n",
       "       Motivo_Emprestimo_Empreendimento  Motivo_Emprestimo_Médico  \\\n",
       "0                                     0                         0   \n",
       "1                                     1                         0   \n",
       "2                                     1                         0   \n",
       "3                                     0                         0   \n",
       "4                                     0                         0   \n",
       "...                                 ...                       ...   \n",
       "34937                                 0                         0   \n",
       "34938                                 0                         0   \n",
       "34939                                 0                         0   \n",
       "34940                                 0                         0   \n",
       "34941                                 0                         1   \n",
       "\n",
       "       Motivo_Emprestimo_Pessoal  Motivo_Emprestimo_Reformas Domésticas  \n",
       "0                              0                                      0  \n",
       "1                              0                                      0  \n",
       "2                              0                                      0  \n",
       "3                              0                                      0  \n",
       "4                              1                                      0  \n",
       "...                          ...                                    ...  \n",
       "34937                          0                                      0  \n",
       "34938                          1                                      0  \n",
       "34939                          0                                      0  \n",
       "34940                          0                                      0  \n",
       "34941                          0                                      0  \n",
       "\n",
       "[34942 rows x 15 columns]"
      ]
     },
     "execution_count": 6,
     "metadata": {},
     "output_type": "execute_result"
    }
   ],
   "source": [
    "X"
   ]
  },
  {
   "cell_type": "code",
   "execution_count": 7,
   "metadata": {},
   "outputs": [],
   "source": [
    "# Divisão em Dados de Treino e Teste\n",
    "X_treino, X_teste, y_treino, y_teste = train_test_split(X,\n",
    "                                                        y,\n",
    "                                                        test_size = 0.2,\n",
    "                                                        random_state = 40)"
   ]
  },
  {
   "cell_type": "markdown",
   "metadata": {},
   "source": [
    "# <font color = 'red'> --------------\n",
    "\n",
    "# Regressão Logística "
   ]
  },
  {
   "cell_type": "code",
   "execution_count": 8,
   "metadata": {},
   "outputs": [],
   "source": [
    "modelo_v1_regressao = LogisticRegression()"
   ]
  },
  {
   "cell_type": "code",
   "execution_count": 9,
   "metadata": {},
   "outputs": [
    {
     "data": {
      "text/html": [
       "<style>#sk-container-id-1 {color: black;background-color: white;}#sk-container-id-1 pre{padding: 0;}#sk-container-id-1 div.sk-toggleable {background-color: white;}#sk-container-id-1 label.sk-toggleable__label {cursor: pointer;display: block;width: 100%;margin-bottom: 0;padding: 0.3em;box-sizing: border-box;text-align: center;}#sk-container-id-1 label.sk-toggleable__label-arrow:before {content: \"▸\";float: left;margin-right: 0.25em;color: #696969;}#sk-container-id-1 label.sk-toggleable__label-arrow:hover:before {color: black;}#sk-container-id-1 div.sk-estimator:hover label.sk-toggleable__label-arrow:before {color: black;}#sk-container-id-1 div.sk-toggleable__content {max-height: 0;max-width: 0;overflow: hidden;text-align: left;background-color: #f0f8ff;}#sk-container-id-1 div.sk-toggleable__content pre {margin: 0.2em;color: black;border-radius: 0.25em;background-color: #f0f8ff;}#sk-container-id-1 input.sk-toggleable__control:checked~div.sk-toggleable__content {max-height: 200px;max-width: 100%;overflow: auto;}#sk-container-id-1 input.sk-toggleable__control:checked~label.sk-toggleable__label-arrow:before {content: \"▾\";}#sk-container-id-1 div.sk-estimator input.sk-toggleable__control:checked~label.sk-toggleable__label {background-color: #d4ebff;}#sk-container-id-1 div.sk-label input.sk-toggleable__control:checked~label.sk-toggleable__label {background-color: #d4ebff;}#sk-container-id-1 input.sk-hidden--visually {border: 0;clip: rect(1px 1px 1px 1px);clip: rect(1px, 1px, 1px, 1px);height: 1px;margin: -1px;overflow: hidden;padding: 0;position: absolute;width: 1px;}#sk-container-id-1 div.sk-estimator {font-family: monospace;background-color: #f0f8ff;border: 1px dotted black;border-radius: 0.25em;box-sizing: border-box;margin-bottom: 0.5em;}#sk-container-id-1 div.sk-estimator:hover {background-color: #d4ebff;}#sk-container-id-1 div.sk-parallel-item::after {content: \"\";width: 100%;border-bottom: 1px solid gray;flex-grow: 1;}#sk-container-id-1 div.sk-label:hover label.sk-toggleable__label {background-color: #d4ebff;}#sk-container-id-1 div.sk-serial::before {content: \"\";position: absolute;border-left: 1px solid gray;box-sizing: border-box;top: 0;bottom: 0;left: 50%;z-index: 0;}#sk-container-id-1 div.sk-serial {display: flex;flex-direction: column;align-items: center;background-color: white;padding-right: 0.2em;padding-left: 0.2em;position: relative;}#sk-container-id-1 div.sk-item {position: relative;z-index: 1;}#sk-container-id-1 div.sk-parallel {display: flex;align-items: stretch;justify-content: center;background-color: white;position: relative;}#sk-container-id-1 div.sk-item::before, #sk-container-id-1 div.sk-parallel-item::before {content: \"\";position: absolute;border-left: 1px solid gray;box-sizing: border-box;top: 0;bottom: 0;left: 50%;z-index: -1;}#sk-container-id-1 div.sk-parallel-item {display: flex;flex-direction: column;z-index: 1;position: relative;background-color: white;}#sk-container-id-1 div.sk-parallel-item:first-child::after {align-self: flex-end;width: 50%;}#sk-container-id-1 div.sk-parallel-item:last-child::after {align-self: flex-start;width: 50%;}#sk-container-id-1 div.sk-parallel-item:only-child::after {width: 0;}#sk-container-id-1 div.sk-dashed-wrapped {border: 1px dashed gray;margin: 0 0.4em 0.5em 0.4em;box-sizing: border-box;padding-bottom: 0.4em;background-color: white;}#sk-container-id-1 div.sk-label label {font-family: monospace;font-weight: bold;display: inline-block;line-height: 1.2em;}#sk-container-id-1 div.sk-label-container {text-align: center;}#sk-container-id-1 div.sk-container {/* jupyter's `normalize.less` sets `[hidden] { display: none; }` but bootstrap.min.css set `[hidden] { display: none !important; }` so we also need the `!important` here to be able to override the default hidden behavior on the sphinx rendered scikit-learn.org. See: https://github.com/scikit-learn/scikit-learn/issues/21755 */display: inline-block !important;position: relative;}#sk-container-id-1 div.sk-text-repr-fallback {display: none;}</style><div id=\"sk-container-id-1\" class=\"sk-top-container\"><div class=\"sk-text-repr-fallback\"><pre>LogisticRegression()</pre><b>In a Jupyter environment, please rerun this cell to show the HTML representation or trust the notebook. <br />On GitHub, the HTML representation is unable to render, please try loading this page with nbviewer.org.</b></div><div class=\"sk-container\" hidden><div class=\"sk-item\"><div class=\"sk-estimator sk-toggleable\"><input class=\"sk-toggleable__control sk-hidden--visually\" id=\"sk-estimator-id-1\" type=\"checkbox\" checked><label for=\"sk-estimator-id-1\" class=\"sk-toggleable__label sk-toggleable__label-arrow\">LogisticRegression</label><div class=\"sk-toggleable__content\"><pre>LogisticRegression()</pre></div></div></div></div></div>"
      ],
      "text/plain": [
       "LogisticRegression()"
      ]
     },
     "execution_count": 9,
     "metadata": {},
     "output_type": "execute_result"
    }
   ],
   "source": [
    "modelo_v1_regressao.fit(X_treino, y_treino)"
   ]
  },
  {
   "cell_type": "code",
   "execution_count": 10,
   "metadata": {},
   "outputs": [],
   "source": [
    "previsoes_v1_LR = modelo_v1_regressao.predict(X_teste)"
   ]
  },
  {
   "cell_type": "code",
   "execution_count": 11,
   "metadata": {},
   "outputs": [
    {
     "data": {
      "text/plain": [
       "{'Modelo': 'Regressão Logística',\n",
       " 'Versão': '1',\n",
       " 'Detalhes': ' - ',\n",
       " 'Precision': 0.792,\n",
       " 'Recall': 0.795,\n",
       " 'F1_Score': 0.794,\n",
       " 'Acurácia': 0.792,\n",
       " 'AUC': 0.792}"
      ]
     },
     "execution_count": 11,
     "metadata": {},
     "output_type": "execute_result"
    }
   ],
   "source": [
    "modelo_v1_metricas = {\n",
    " \"Modelo\": \"Regressão Logística\",\n",
    " \"Versão\": \"1\",\n",
    " \"Detalhes\": \" - \",\n",
    " \"Precision\": round(precision_score(previsoes_v1_LR, y_teste), 3),\n",
    " \"Recall\": round(recall_score(previsoes_v1_LR, y_teste), 3),\n",
    " \"F1_Score\": round(f1_score(previsoes_v1_LR, y_teste), 3),\n",
    " \"Acurácia\": round(accuracy_score(previsoes_v1_LR, y_teste), 3),\n",
    " \"AUC\": round(roc_auc_score(y_teste, previsoes_v1_LR), 3) #AUC inverte a ordem dos dados -  primeiro real depois previsões\n",
    "}\n",
    "\n",
    "modelo_v1_metricas"
   ]
  },
  {
   "cell_type": "markdown",
   "metadata": {},
   "source": [
    "# <font color = 'red'> --------------</font>\n",
    "\n",
    "# <font color = 'red'>Decision Tree com Grid Search</font>"
   ]
  },
  {
   "cell_type": "code",
   "execution_count": 12,
   "metadata": {},
   "outputs": [],
   "source": [
    "# Parametros para grid\n",
    "params_decision_tree = {\n",
    " \"criterion\": [\"gini\", \"entropy\"],\n",
    " \"max_depth\": [3, None],\n",
    " \"min_samples_leaf\": [1, 3, 10],\n",
    " \"min_samples_split\": [2, 3],\n",
    " \"max_depth\": [1,3,10]\n",
    "}"
   ]
  },
  {
   "cell_type": "code",
   "execution_count": 13,
   "metadata": {},
   "outputs": [],
   "source": [
    "clf_decision_tree = DecisionTreeClassifier()"
   ]
  },
  {
   "cell_type": "code",
   "execution_count": 14,
   "metadata": {},
   "outputs": [],
   "source": [
    "# Grid Search\n",
    "modelo_v2_decisionTree = GridSearchCV(clf_decision_tree,\n",
    "                                      params_decision_tree,\n",
    "                                      scoring='accuracy',\n",
    "                                      cv = 5)"
   ]
  },
  {
   "cell_type": "code",
   "execution_count": 15,
   "metadata": {},
   "outputs": [
    {
     "data": {
      "text/html": [
       "<style>#sk-container-id-2 {color: black;background-color: white;}#sk-container-id-2 pre{padding: 0;}#sk-container-id-2 div.sk-toggleable {background-color: white;}#sk-container-id-2 label.sk-toggleable__label {cursor: pointer;display: block;width: 100%;margin-bottom: 0;padding: 0.3em;box-sizing: border-box;text-align: center;}#sk-container-id-2 label.sk-toggleable__label-arrow:before {content: \"▸\";float: left;margin-right: 0.25em;color: #696969;}#sk-container-id-2 label.sk-toggleable__label-arrow:hover:before {color: black;}#sk-container-id-2 div.sk-estimator:hover label.sk-toggleable__label-arrow:before {color: black;}#sk-container-id-2 div.sk-toggleable__content {max-height: 0;max-width: 0;overflow: hidden;text-align: left;background-color: #f0f8ff;}#sk-container-id-2 div.sk-toggleable__content pre {margin: 0.2em;color: black;border-radius: 0.25em;background-color: #f0f8ff;}#sk-container-id-2 input.sk-toggleable__control:checked~div.sk-toggleable__content {max-height: 200px;max-width: 100%;overflow: auto;}#sk-container-id-2 input.sk-toggleable__control:checked~label.sk-toggleable__label-arrow:before {content: \"▾\";}#sk-container-id-2 div.sk-estimator input.sk-toggleable__control:checked~label.sk-toggleable__label {background-color: #d4ebff;}#sk-container-id-2 div.sk-label input.sk-toggleable__control:checked~label.sk-toggleable__label {background-color: #d4ebff;}#sk-container-id-2 input.sk-hidden--visually {border: 0;clip: rect(1px 1px 1px 1px);clip: rect(1px, 1px, 1px, 1px);height: 1px;margin: -1px;overflow: hidden;padding: 0;position: absolute;width: 1px;}#sk-container-id-2 div.sk-estimator {font-family: monospace;background-color: #f0f8ff;border: 1px dotted black;border-radius: 0.25em;box-sizing: border-box;margin-bottom: 0.5em;}#sk-container-id-2 div.sk-estimator:hover {background-color: #d4ebff;}#sk-container-id-2 div.sk-parallel-item::after {content: \"\";width: 100%;border-bottom: 1px solid gray;flex-grow: 1;}#sk-container-id-2 div.sk-label:hover label.sk-toggleable__label {background-color: #d4ebff;}#sk-container-id-2 div.sk-serial::before {content: \"\";position: absolute;border-left: 1px solid gray;box-sizing: border-box;top: 0;bottom: 0;left: 50%;z-index: 0;}#sk-container-id-2 div.sk-serial {display: flex;flex-direction: column;align-items: center;background-color: white;padding-right: 0.2em;padding-left: 0.2em;position: relative;}#sk-container-id-2 div.sk-item {position: relative;z-index: 1;}#sk-container-id-2 div.sk-parallel {display: flex;align-items: stretch;justify-content: center;background-color: white;position: relative;}#sk-container-id-2 div.sk-item::before, #sk-container-id-2 div.sk-parallel-item::before {content: \"\";position: absolute;border-left: 1px solid gray;box-sizing: border-box;top: 0;bottom: 0;left: 50%;z-index: -1;}#sk-container-id-2 div.sk-parallel-item {display: flex;flex-direction: column;z-index: 1;position: relative;background-color: white;}#sk-container-id-2 div.sk-parallel-item:first-child::after {align-self: flex-end;width: 50%;}#sk-container-id-2 div.sk-parallel-item:last-child::after {align-self: flex-start;width: 50%;}#sk-container-id-2 div.sk-parallel-item:only-child::after {width: 0;}#sk-container-id-2 div.sk-dashed-wrapped {border: 1px dashed gray;margin: 0 0.4em 0.5em 0.4em;box-sizing: border-box;padding-bottom: 0.4em;background-color: white;}#sk-container-id-2 div.sk-label label {font-family: monospace;font-weight: bold;display: inline-block;line-height: 1.2em;}#sk-container-id-2 div.sk-label-container {text-align: center;}#sk-container-id-2 div.sk-container {/* jupyter's `normalize.less` sets `[hidden] { display: none; }` but bootstrap.min.css set `[hidden] { display: none !important; }` so we also need the `!important` here to be able to override the default hidden behavior on the sphinx rendered scikit-learn.org. See: https://github.com/scikit-learn/scikit-learn/issues/21755 */display: inline-block !important;position: relative;}#sk-container-id-2 div.sk-text-repr-fallback {display: none;}</style><div id=\"sk-container-id-2\" class=\"sk-top-container\"><div class=\"sk-text-repr-fallback\"><pre>GridSearchCV(cv=5, estimator=DecisionTreeClassifier(),\n",
       "             param_grid={&#x27;criterion&#x27;: [&#x27;gini&#x27;, &#x27;entropy&#x27;],\n",
       "                         &#x27;max_depth&#x27;: [1, 3, 10],\n",
       "                         &#x27;min_samples_leaf&#x27;: [1, 3, 10],\n",
       "                         &#x27;min_samples_split&#x27;: [2, 3]},\n",
       "             scoring=&#x27;accuracy&#x27;)</pre><b>In a Jupyter environment, please rerun this cell to show the HTML representation or trust the notebook. <br />On GitHub, the HTML representation is unable to render, please try loading this page with nbviewer.org.</b></div><div class=\"sk-container\" hidden><div class=\"sk-item sk-dashed-wrapped\"><div class=\"sk-label-container\"><div class=\"sk-label sk-toggleable\"><input class=\"sk-toggleable__control sk-hidden--visually\" id=\"sk-estimator-id-2\" type=\"checkbox\" ><label for=\"sk-estimator-id-2\" class=\"sk-toggleable__label sk-toggleable__label-arrow\">GridSearchCV</label><div class=\"sk-toggleable__content\"><pre>GridSearchCV(cv=5, estimator=DecisionTreeClassifier(),\n",
       "             param_grid={&#x27;criterion&#x27;: [&#x27;gini&#x27;, &#x27;entropy&#x27;],\n",
       "                         &#x27;max_depth&#x27;: [1, 3, 10],\n",
       "                         &#x27;min_samples_leaf&#x27;: [1, 3, 10],\n",
       "                         &#x27;min_samples_split&#x27;: [2, 3]},\n",
       "             scoring=&#x27;accuracy&#x27;)</pre></div></div></div><div class=\"sk-parallel\"><div class=\"sk-parallel-item\"><div class=\"sk-item\"><div class=\"sk-label-container\"><div class=\"sk-label sk-toggleable\"><input class=\"sk-toggleable__control sk-hidden--visually\" id=\"sk-estimator-id-3\" type=\"checkbox\" ><label for=\"sk-estimator-id-3\" class=\"sk-toggleable__label sk-toggleable__label-arrow\">estimator: DecisionTreeClassifier</label><div class=\"sk-toggleable__content\"><pre>DecisionTreeClassifier()</pre></div></div></div><div class=\"sk-serial\"><div class=\"sk-item\"><div class=\"sk-estimator sk-toggleable\"><input class=\"sk-toggleable__control sk-hidden--visually\" id=\"sk-estimator-id-4\" type=\"checkbox\" ><label for=\"sk-estimator-id-4\" class=\"sk-toggleable__label sk-toggleable__label-arrow\">DecisionTreeClassifier</label><div class=\"sk-toggleable__content\"><pre>DecisionTreeClassifier()</pre></div></div></div></div></div></div></div></div></div></div>"
      ],
      "text/plain": [
       "GridSearchCV(cv=5, estimator=DecisionTreeClassifier(),\n",
       "             param_grid={'criterion': ['gini', 'entropy'],\n",
       "                         'max_depth': [1, 3, 10],\n",
       "                         'min_samples_leaf': [1, 3, 10],\n",
       "                         'min_samples_split': [2, 3]},\n",
       "             scoring='accuracy')"
      ]
     },
     "execution_count": 15,
     "metadata": {},
     "output_type": "execute_result"
    }
   ],
   "source": [
    "# Treinando \n",
    "modelo_v2_decisionTree.fit(X_treino, y_treino)"
   ]
  },
  {
   "cell_type": "code",
   "execution_count": 16,
   "metadata": {},
   "outputs": [
    {
     "data": {
      "text/plain": [
       "{'criterion': 'gini',\n",
       " 'max_depth': 10,\n",
       " 'min_samples_leaf': 1,\n",
       " 'min_samples_split': 3}"
      ]
     },
     "execution_count": 16,
     "metadata": {},
     "output_type": "execute_result"
    }
   ],
   "source": [
    "modelo_v2_decisionTree.best_params_"
   ]
  },
  {
   "cell_type": "code",
   "execution_count": 17,
   "metadata": {},
   "outputs": [],
   "source": [
    "previsoes_v2_DT = modelo_v2_decisionTree.predict(X_teste)"
   ]
  },
  {
   "cell_type": "code",
   "execution_count": 18,
   "metadata": {},
   "outputs": [
    {
     "data": {
      "text/plain": [
       "{'Modelo': 'Decision Tree GS',\n",
       " 'Versão': '2',\n",
       " 'Detalhes': 'gini',\n",
       " 'Precision': 0.706,\n",
       " 'Recall': 0.972,\n",
       " 'F1_Score': 0.817,\n",
       " 'Acurácia': 0.841,\n",
       " 'AUC': 0.842}"
      ]
     },
     "execution_count": 18,
     "metadata": {},
     "output_type": "execute_result"
    }
   ],
   "source": [
    "modelo_v2_metricas = {\n",
    " \"Modelo\": \"Decision Tree GS\",\n",
    " \"Versão\": \"2\",\n",
    " \"Detalhes\": \"gini\",\n",
    " \"Precision\": round(precision_score(previsoes_v2_DT, y_teste), 3),\n",
    " \"Recall\": round(recall_score(previsoes_v2_DT, y_teste), 3),\n",
    " \"F1_Score\": round(f1_score(previsoes_v2_DT, y_teste), 3),\n",
    " \"Acurácia\": round(accuracy_score(previsoes_v2_DT, y_teste), 3),\n",
    " \"AUC\": round(roc_auc_score(y_teste, previsoes_v2_DT), 3) #AUC inverte a ordem dos dados -  primeiro real depois previsões\n",
    "}\n",
    "modelo_v2_metricas"
   ]
  },
  {
   "cell_type": "markdown",
   "metadata": {},
   "source": [
    "# <font color = 'red'> --------------</font>\n",
    "\n",
    "# <font color = 'red'>Random Forest sem Grid Search</font>"
   ]
  },
  {
   "cell_type": "code",
   "execution_count": 19,
   "metadata": {},
   "outputs": [],
   "source": [
    "clf_random_forest = RandomForestClassifier(n_estimators = 100)"
   ]
  },
  {
   "cell_type": "code",
   "execution_count": 20,
   "metadata": {},
   "outputs": [
    {
     "data": {
      "text/html": [
       "<style>#sk-container-id-3 {color: black;background-color: white;}#sk-container-id-3 pre{padding: 0;}#sk-container-id-3 div.sk-toggleable {background-color: white;}#sk-container-id-3 label.sk-toggleable__label {cursor: pointer;display: block;width: 100%;margin-bottom: 0;padding: 0.3em;box-sizing: border-box;text-align: center;}#sk-container-id-3 label.sk-toggleable__label-arrow:before {content: \"▸\";float: left;margin-right: 0.25em;color: #696969;}#sk-container-id-3 label.sk-toggleable__label-arrow:hover:before {color: black;}#sk-container-id-3 div.sk-estimator:hover label.sk-toggleable__label-arrow:before {color: black;}#sk-container-id-3 div.sk-toggleable__content {max-height: 0;max-width: 0;overflow: hidden;text-align: left;background-color: #f0f8ff;}#sk-container-id-3 div.sk-toggleable__content pre {margin: 0.2em;color: black;border-radius: 0.25em;background-color: #f0f8ff;}#sk-container-id-3 input.sk-toggleable__control:checked~div.sk-toggleable__content {max-height: 200px;max-width: 100%;overflow: auto;}#sk-container-id-3 input.sk-toggleable__control:checked~label.sk-toggleable__label-arrow:before {content: \"▾\";}#sk-container-id-3 div.sk-estimator input.sk-toggleable__control:checked~label.sk-toggleable__label {background-color: #d4ebff;}#sk-container-id-3 div.sk-label input.sk-toggleable__control:checked~label.sk-toggleable__label {background-color: #d4ebff;}#sk-container-id-3 input.sk-hidden--visually {border: 0;clip: rect(1px 1px 1px 1px);clip: rect(1px, 1px, 1px, 1px);height: 1px;margin: -1px;overflow: hidden;padding: 0;position: absolute;width: 1px;}#sk-container-id-3 div.sk-estimator {font-family: monospace;background-color: #f0f8ff;border: 1px dotted black;border-radius: 0.25em;box-sizing: border-box;margin-bottom: 0.5em;}#sk-container-id-3 div.sk-estimator:hover {background-color: #d4ebff;}#sk-container-id-3 div.sk-parallel-item::after {content: \"\";width: 100%;border-bottom: 1px solid gray;flex-grow: 1;}#sk-container-id-3 div.sk-label:hover label.sk-toggleable__label {background-color: #d4ebff;}#sk-container-id-3 div.sk-serial::before {content: \"\";position: absolute;border-left: 1px solid gray;box-sizing: border-box;top: 0;bottom: 0;left: 50%;z-index: 0;}#sk-container-id-3 div.sk-serial {display: flex;flex-direction: column;align-items: center;background-color: white;padding-right: 0.2em;padding-left: 0.2em;position: relative;}#sk-container-id-3 div.sk-item {position: relative;z-index: 1;}#sk-container-id-3 div.sk-parallel {display: flex;align-items: stretch;justify-content: center;background-color: white;position: relative;}#sk-container-id-3 div.sk-item::before, #sk-container-id-3 div.sk-parallel-item::before {content: \"\";position: absolute;border-left: 1px solid gray;box-sizing: border-box;top: 0;bottom: 0;left: 50%;z-index: -1;}#sk-container-id-3 div.sk-parallel-item {display: flex;flex-direction: column;z-index: 1;position: relative;background-color: white;}#sk-container-id-3 div.sk-parallel-item:first-child::after {align-self: flex-end;width: 50%;}#sk-container-id-3 div.sk-parallel-item:last-child::after {align-self: flex-start;width: 50%;}#sk-container-id-3 div.sk-parallel-item:only-child::after {width: 0;}#sk-container-id-3 div.sk-dashed-wrapped {border: 1px dashed gray;margin: 0 0.4em 0.5em 0.4em;box-sizing: border-box;padding-bottom: 0.4em;background-color: white;}#sk-container-id-3 div.sk-label label {font-family: monospace;font-weight: bold;display: inline-block;line-height: 1.2em;}#sk-container-id-3 div.sk-label-container {text-align: center;}#sk-container-id-3 div.sk-container {/* jupyter's `normalize.less` sets `[hidden] { display: none; }` but bootstrap.min.css set `[hidden] { display: none !important; }` so we also need the `!important` here to be able to override the default hidden behavior on the sphinx rendered scikit-learn.org. See: https://github.com/scikit-learn/scikit-learn/issues/21755 */display: inline-block !important;position: relative;}#sk-container-id-3 div.sk-text-repr-fallback {display: none;}</style><div id=\"sk-container-id-3\" class=\"sk-top-container\"><div class=\"sk-text-repr-fallback\"><pre>RandomForestClassifier()</pre><b>In a Jupyter environment, please rerun this cell to show the HTML representation or trust the notebook. <br />On GitHub, the HTML representation is unable to render, please try loading this page with nbviewer.org.</b></div><div class=\"sk-container\" hidden><div class=\"sk-item\"><div class=\"sk-estimator sk-toggleable\"><input class=\"sk-toggleable__control sk-hidden--visually\" id=\"sk-estimator-id-5\" type=\"checkbox\" checked><label for=\"sk-estimator-id-5\" class=\"sk-toggleable__label sk-toggleable__label-arrow\">RandomForestClassifier</label><div class=\"sk-toggleable__content\"><pre>RandomForestClassifier()</pre></div></div></div></div></div>"
      ],
      "text/plain": [
       "RandomForestClassifier()"
      ]
     },
     "execution_count": 20,
     "metadata": {},
     "output_type": "execute_result"
    }
   ],
   "source": [
    "clf_random_forest.fit(X_treino, y_treino)"
   ]
  },
  {
   "cell_type": "code",
   "execution_count": 22,
   "metadata": {},
   "outputs": [],
   "source": [
    "previsoes_v3_RF = clf_random_forest.predict(X_teste)"
   ]
  },
  {
   "cell_type": "code",
   "execution_count": 24,
   "metadata": {},
   "outputs": [
    {
     "data": {
      "text/plain": [
       "{'Modelo': 'Random Forest',\n",
       " 'Versão': '3',\n",
       " 'Detalhes': 'Sem otimização',\n",
       " 'Precision': 0.892,\n",
       " 'Recall': 0.963,\n",
       " 'F1_Score': 0.926,\n",
       " 'Acurácia': 0.928,\n",
       " 'AUC': 0.929}"
      ]
     },
     "execution_count": 24,
     "metadata": {},
     "output_type": "execute_result"
    }
   ],
   "source": [
    "modelo_v3_metricas = {\n",
    " \"Modelo\": \"Random Forest\",\n",
    " \"Versão\": \"3\",\n",
    " \"Detalhes\": \"Sem otimização\",\n",
    " \"Precision\": round(precision_score(previsoes_v3_RF, y_teste), 3),\n",
    " \"Recall\": round(recall_score(previsoes_v3_RF, y_teste), 3),\n",
    " \"F1_Score\": round(f1_score(previsoes_v3_RF, y_teste), 3),\n",
    " \"Acurácia\": round(accuracy_score(previsoes_v3_RF, y_teste), 3),\n",
    " \"AUC\": round(roc_auc_score(y_teste, previsoes_v3_RF), 3) #AUC inverte a ordem dos dados -  primeiro real depois previsões\n",
    "}\n",
    "modelo_v3_metricas"
   ]
  },
  {
   "cell_type": "markdown",
   "metadata": {},
   "source": [
    "# <font color = 'red'> --------------</font>\n",
    "\n",
    "# <font color = 'red'>Random Forest com GS</font>"
   ]
  },
  {
   "cell_type": "code",
   "execution_count": 25,
   "metadata": {},
   "outputs": [],
   "source": [
    "clf_random_forest_GS = RandomForestClassifier(n_estimators = 100)"
   ]
  },
  {
   "cell_type": "code",
   "execution_count": 26,
   "metadata": {},
   "outputs": [],
   "source": [
    "# Parametros\n",
    "params_random_forest = {\n",
    "    'max_depth': [None, 2],  # Profundidade máxima de cada árvore\n",
    "    'min_samples_split': [2, 5],  # Mínimo de amostras necessárias para dividir um nó\n",
    "    'min_samples_leaf': [1, 2, 3],    # Mínimo de amostras necessárias em um nó folha\n",
    "    'criterion': ['gini', 'entropy']\n",
    "}"
   ]
  },
  {
   "cell_type": "code",
   "execution_count": 33,
   "metadata": {},
   "outputs": [],
   "source": [
    "# Grid Search\n",
    "modelo_v4_randomForest_GS = GridSearchCV(clf_random_forest_GS,\n",
    "                                      params_random_forest,\n",
    "                                      cv = 5)"
   ]
  },
  {
   "cell_type": "code",
   "execution_count": 34,
   "metadata": {},
   "outputs": [
    {
     "data": {
      "text/html": [
       "<style>#sk-container-id-5 {color: black;background-color: white;}#sk-container-id-5 pre{padding: 0;}#sk-container-id-5 div.sk-toggleable {background-color: white;}#sk-container-id-5 label.sk-toggleable__label {cursor: pointer;display: block;width: 100%;margin-bottom: 0;padding: 0.3em;box-sizing: border-box;text-align: center;}#sk-container-id-5 label.sk-toggleable__label-arrow:before {content: \"▸\";float: left;margin-right: 0.25em;color: #696969;}#sk-container-id-5 label.sk-toggleable__label-arrow:hover:before {color: black;}#sk-container-id-5 div.sk-estimator:hover label.sk-toggleable__label-arrow:before {color: black;}#sk-container-id-5 div.sk-toggleable__content {max-height: 0;max-width: 0;overflow: hidden;text-align: left;background-color: #f0f8ff;}#sk-container-id-5 div.sk-toggleable__content pre {margin: 0.2em;color: black;border-radius: 0.25em;background-color: #f0f8ff;}#sk-container-id-5 input.sk-toggleable__control:checked~div.sk-toggleable__content {max-height: 200px;max-width: 100%;overflow: auto;}#sk-container-id-5 input.sk-toggleable__control:checked~label.sk-toggleable__label-arrow:before {content: \"▾\";}#sk-container-id-5 div.sk-estimator input.sk-toggleable__control:checked~label.sk-toggleable__label {background-color: #d4ebff;}#sk-container-id-5 div.sk-label input.sk-toggleable__control:checked~label.sk-toggleable__label {background-color: #d4ebff;}#sk-container-id-5 input.sk-hidden--visually {border: 0;clip: rect(1px 1px 1px 1px);clip: rect(1px, 1px, 1px, 1px);height: 1px;margin: -1px;overflow: hidden;padding: 0;position: absolute;width: 1px;}#sk-container-id-5 div.sk-estimator {font-family: monospace;background-color: #f0f8ff;border: 1px dotted black;border-radius: 0.25em;box-sizing: border-box;margin-bottom: 0.5em;}#sk-container-id-5 div.sk-estimator:hover {background-color: #d4ebff;}#sk-container-id-5 div.sk-parallel-item::after {content: \"\";width: 100%;border-bottom: 1px solid gray;flex-grow: 1;}#sk-container-id-5 div.sk-label:hover label.sk-toggleable__label {background-color: #d4ebff;}#sk-container-id-5 div.sk-serial::before {content: \"\";position: absolute;border-left: 1px solid gray;box-sizing: border-box;top: 0;bottom: 0;left: 50%;z-index: 0;}#sk-container-id-5 div.sk-serial {display: flex;flex-direction: column;align-items: center;background-color: white;padding-right: 0.2em;padding-left: 0.2em;position: relative;}#sk-container-id-5 div.sk-item {position: relative;z-index: 1;}#sk-container-id-5 div.sk-parallel {display: flex;align-items: stretch;justify-content: center;background-color: white;position: relative;}#sk-container-id-5 div.sk-item::before, #sk-container-id-5 div.sk-parallel-item::before {content: \"\";position: absolute;border-left: 1px solid gray;box-sizing: border-box;top: 0;bottom: 0;left: 50%;z-index: -1;}#sk-container-id-5 div.sk-parallel-item {display: flex;flex-direction: column;z-index: 1;position: relative;background-color: white;}#sk-container-id-5 div.sk-parallel-item:first-child::after {align-self: flex-end;width: 50%;}#sk-container-id-5 div.sk-parallel-item:last-child::after {align-self: flex-start;width: 50%;}#sk-container-id-5 div.sk-parallel-item:only-child::after {width: 0;}#sk-container-id-5 div.sk-dashed-wrapped {border: 1px dashed gray;margin: 0 0.4em 0.5em 0.4em;box-sizing: border-box;padding-bottom: 0.4em;background-color: white;}#sk-container-id-5 div.sk-label label {font-family: monospace;font-weight: bold;display: inline-block;line-height: 1.2em;}#sk-container-id-5 div.sk-label-container {text-align: center;}#sk-container-id-5 div.sk-container {/* jupyter's `normalize.less` sets `[hidden] { display: none; }` but bootstrap.min.css set `[hidden] { display: none !important; }` so we also need the `!important` here to be able to override the default hidden behavior on the sphinx rendered scikit-learn.org. See: https://github.com/scikit-learn/scikit-learn/issues/21755 */display: inline-block !important;position: relative;}#sk-container-id-5 div.sk-text-repr-fallback {display: none;}</style><div id=\"sk-container-id-5\" class=\"sk-top-container\"><div class=\"sk-text-repr-fallback\"><pre>GridSearchCV(cv=5, estimator=RandomForestClassifier(),\n",
       "             param_grid={&#x27;criterion&#x27;: [&#x27;gini&#x27;, &#x27;entropy&#x27;],\n",
       "                         &#x27;max_depth&#x27;: [None, 2], &#x27;min_samples_leaf&#x27;: [1, 2, 3],\n",
       "                         &#x27;min_samples_split&#x27;: [2, 5]})</pre><b>In a Jupyter environment, please rerun this cell to show the HTML representation or trust the notebook. <br />On GitHub, the HTML representation is unable to render, please try loading this page with nbviewer.org.</b></div><div class=\"sk-container\" hidden><div class=\"sk-item sk-dashed-wrapped\"><div class=\"sk-label-container\"><div class=\"sk-label sk-toggleable\"><input class=\"sk-toggleable__control sk-hidden--visually\" id=\"sk-estimator-id-9\" type=\"checkbox\" ><label for=\"sk-estimator-id-9\" class=\"sk-toggleable__label sk-toggleable__label-arrow\">GridSearchCV</label><div class=\"sk-toggleable__content\"><pre>GridSearchCV(cv=5, estimator=RandomForestClassifier(),\n",
       "             param_grid={&#x27;criterion&#x27;: [&#x27;gini&#x27;, &#x27;entropy&#x27;],\n",
       "                         &#x27;max_depth&#x27;: [None, 2], &#x27;min_samples_leaf&#x27;: [1, 2, 3],\n",
       "                         &#x27;min_samples_split&#x27;: [2, 5]})</pre></div></div></div><div class=\"sk-parallel\"><div class=\"sk-parallel-item\"><div class=\"sk-item\"><div class=\"sk-label-container\"><div class=\"sk-label sk-toggleable\"><input class=\"sk-toggleable__control sk-hidden--visually\" id=\"sk-estimator-id-10\" type=\"checkbox\" ><label for=\"sk-estimator-id-10\" class=\"sk-toggleable__label sk-toggleable__label-arrow\">estimator: RandomForestClassifier</label><div class=\"sk-toggleable__content\"><pre>RandomForestClassifier()</pre></div></div></div><div class=\"sk-serial\"><div class=\"sk-item\"><div class=\"sk-estimator sk-toggleable\"><input class=\"sk-toggleable__control sk-hidden--visually\" id=\"sk-estimator-id-11\" type=\"checkbox\" ><label for=\"sk-estimator-id-11\" class=\"sk-toggleable__label sk-toggleable__label-arrow\">RandomForestClassifier</label><div class=\"sk-toggleable__content\"><pre>RandomForestClassifier()</pre></div></div></div></div></div></div></div></div></div></div>"
      ],
      "text/plain": [
       "GridSearchCV(cv=5, estimator=RandomForestClassifier(),\n",
       "             param_grid={'criterion': ['gini', 'entropy'],\n",
       "                         'max_depth': [None, 2], 'min_samples_leaf': [1, 2, 3],\n",
       "                         'min_samples_split': [2, 5]})"
      ]
     },
     "execution_count": 34,
     "metadata": {},
     "output_type": "execute_result"
    }
   ],
   "source": [
    "modelo_v4_randomForest_GS.fit(X_treino, y_treino)"
   ]
  },
  {
   "cell_type": "code",
   "execution_count": 35,
   "metadata": {},
   "outputs": [
    {
     "data": {
      "text/plain": [
       "{'criterion': 'entropy',\n",
       " 'max_depth': None,\n",
       " 'min_samples_leaf': 1,\n",
       " 'min_samples_split': 2}"
      ]
     },
     "execution_count": 35,
     "metadata": {},
     "output_type": "execute_result"
    }
   ],
   "source": [
    "modelo_v4_randomForest_GS.best_params_"
   ]
  },
  {
   "cell_type": "code",
   "execution_count": 36,
   "metadata": {},
   "outputs": [],
   "source": [
    "# Previsões do modelo 4 \n",
    "previsoes_v4_RF_GS = modelo_v4_randomForest_GS.predict(X_teste)"
   ]
  },
  {
   "cell_type": "code",
   "execution_count": 37,
   "metadata": {},
   "outputs": [
    {
     "data": {
      "text/plain": [
       "{'Modelo': 'Random Forest GS',\n",
       " 'Versão': '4',\n",
       " 'Detalhes': 'entropy',\n",
       " 'Precision': 0.892,\n",
       " 'Recall': 0.96,\n",
       " 'F1_Score': 0.925,\n",
       " 'Acurácia': 0.927,\n",
       " 'AUC': 0.927}"
      ]
     },
     "execution_count": 37,
     "metadata": {},
     "output_type": "execute_result"
    }
   ],
   "source": [
    "modelo_v4_metricas = {\n",
    " \"Modelo\": \"Random Forest GS\",\n",
    " \"Versão\": \"4\",\n",
    " \"Detalhes\": \"entropy\",\n",
    " \"Precision\": round(precision_score(previsoes_v4_RF_GS, y_teste), 3),\n",
    " \"Recall\": round(recall_score(previsoes_v4_RF_GS, y_teste), 3),\n",
    " \"F1_Score\": round(f1_score(previsoes_v4_RF_GS, y_teste), 3),\n",
    " \"Acurácia\": round(accuracy_score(previsoes_v4_RF_GS, y_teste), 3),\n",
    " \"AUC\": round(roc_auc_score(y_teste, previsoes_v4_RF_GS), 3) #AUC inverte a ordem dos dados -  primeiro real depois previsões\n",
    "}\n",
    "modelo_v4_metricas"
   ]
  },
  {
   "cell_type": "markdown",
   "metadata": {},
   "source": [
    "# <font color = 'red'> --------------</font>\n",
    "\n",
    "# <font color = 'red'>Extra Trees</font>"
   ]
  },
  {
   "cell_type": "code",
   "execution_count": 38,
   "metadata": {},
   "outputs": [],
   "source": [
    "clf_exta_trees = ExtraTreesClassifier(n_estimators = 100)"
   ]
  },
  {
   "cell_type": "code",
   "execution_count": 39,
   "metadata": {},
   "outputs": [],
   "source": [
    "# Parametros\n",
    "params_extra_trees = {\n",
    "    'max_depth': [None, 2],  # Profundidade máxima de cada árvore\n",
    "    'min_samples_split': [2, 3, 5],  # Mínimo de amostras necessárias para dividir um nó\n",
    "    'min_samples_leaf': [1, 2, 3],    # Mínimo de amostras necessárias em um nó folha\n",
    "    'criterion': ['gini', 'entropy']\n",
    "}\n",
    "\n",
    "# Grid Search\n",
    "modelo_v5_extraTrees_GS = GridSearchCV(clf_exta_trees,\n",
    "                                         params_random_forest,\n",
    "                                         cv = 5)"
   ]
  },
  {
   "cell_type": "code",
   "execution_count": 41,
   "metadata": {},
   "outputs": [
    {
     "data": {
      "text/plain": [
       "{'criterion': 'entropy',\n",
       " 'max_depth': None,\n",
       " 'min_samples_leaf': 1,\n",
       " 'min_samples_split': 2}"
      ]
     },
     "execution_count": 41,
     "metadata": {},
     "output_type": "execute_result"
    }
   ],
   "source": [
    "modelo_v5_extraTrees_GS.fit(X_treino, y_treino)\n",
    "\n",
    "modelo_v5_extraTrees_GS.best_params_"
   ]
  },
  {
   "cell_type": "code",
   "execution_count": 42,
   "metadata": {},
   "outputs": [],
   "source": [
    "# Previsões do modelo 5\n",
    "previsoes_v5_extraTrees_GS = modelo_v5_extraTrees_GS.predict(X_teste)"
   ]
  },
  {
   "cell_type": "code",
   "execution_count": 44,
   "metadata": {},
   "outputs": [
    {
     "data": {
      "text/plain": [
       "{'Modelo': 'Extra Trees',\n",
       " 'Versão': '5',\n",
       " 'Detalhes': 'entropy',\n",
       " 'Precision': 0.906,\n",
       " 'Recall': 0.942,\n",
       " 'F1_Score': 0.924,\n",
       " 'Acurácia': 0.924,\n",
       " 'AUC': 0.924}"
      ]
     },
     "execution_count": 44,
     "metadata": {},
     "output_type": "execute_result"
    }
   ],
   "source": [
    "modelo_v5_metricas = {\n",
    " \"Modelo\": \"Extra Trees\",\n",
    " \"Versão\": \"5\",\n",
    " \"Detalhes\": \"entropy\",\n",
    " \"Precision\": round(precision_score(previsoes_v5_extraTrees_GS, y_teste), 3),\n",
    " \"Recall\": round(recall_score(previsoes_v5_extraTrees_GS, y_teste), 3),\n",
    " \"F1_Score\": round(f1_score(previsoes_v5_extraTrees_GS, y_teste), 3),\n",
    " \"Acurácia\": round(accuracy_score(previsoes_v5_extraTrees_GS, y_teste), 3),\n",
    " \"AUC\": round(roc_auc_score(y_teste, previsoes_v5_extraTrees_GS), 3) #AUC inverte a ordem dos dados -  primeiro real depois previsões\n",
    "}\n",
    "modelo_v5_metricas"
   ]
  },
  {
   "cell_type": "markdown",
   "metadata": {},
   "source": [
    "# <font color = 'red'> --------------</font>\n",
    "\n",
    "# <font color = 'red'>Adaboost</font>"
   ]
  },
  {
   "cell_type": "code",
   "execution_count": 45,
   "metadata": {},
   "outputs": [],
   "source": [
    "clf_adaboost = AdaBoostClassifier()"
   ]
  },
  {
   "cell_type": "code",
   "execution_count": 62,
   "metadata": {},
   "outputs": [],
   "source": [
    "# Estimador base (usarei a melhor árvore de decisão)\n",
    "estimador_base = DecisionTreeClassifier(criterion = 'gini',\n",
    "                                        max_depth = 10,\n",
    "                                        min_samples_leaf = 1, \n",
    "                                        min_samples_split = 3)"
   ]
  },
  {
   "cell_type": "code",
   "execution_count": 68,
   "metadata": {},
   "outputs": [],
   "source": [
    "modelo_v6_adaBoost = AdaBoostClassifier(base_estimator = estimador_base,\n",
    "                                        learning_rate = 0.5,\n",
    "                                        n_estimators = 300,\n",
    "                                        algorithm='SAMME')"
   ]
  },
  {
   "cell_type": "code",
   "execution_count": 69,
   "metadata": {},
   "outputs": [
    {
     "data": {
      "text/html": [
       "<style>#sk-container-id-10 {color: black;background-color: white;}#sk-container-id-10 pre{padding: 0;}#sk-container-id-10 div.sk-toggleable {background-color: white;}#sk-container-id-10 label.sk-toggleable__label {cursor: pointer;display: block;width: 100%;margin-bottom: 0;padding: 0.3em;box-sizing: border-box;text-align: center;}#sk-container-id-10 label.sk-toggleable__label-arrow:before {content: \"▸\";float: left;margin-right: 0.25em;color: #696969;}#sk-container-id-10 label.sk-toggleable__label-arrow:hover:before {color: black;}#sk-container-id-10 div.sk-estimator:hover label.sk-toggleable__label-arrow:before {color: black;}#sk-container-id-10 div.sk-toggleable__content {max-height: 0;max-width: 0;overflow: hidden;text-align: left;background-color: #f0f8ff;}#sk-container-id-10 div.sk-toggleable__content pre {margin: 0.2em;color: black;border-radius: 0.25em;background-color: #f0f8ff;}#sk-container-id-10 input.sk-toggleable__control:checked~div.sk-toggleable__content {max-height: 200px;max-width: 100%;overflow: auto;}#sk-container-id-10 input.sk-toggleable__control:checked~label.sk-toggleable__label-arrow:before {content: \"▾\";}#sk-container-id-10 div.sk-estimator input.sk-toggleable__control:checked~label.sk-toggleable__label {background-color: #d4ebff;}#sk-container-id-10 div.sk-label input.sk-toggleable__control:checked~label.sk-toggleable__label {background-color: #d4ebff;}#sk-container-id-10 input.sk-hidden--visually {border: 0;clip: rect(1px 1px 1px 1px);clip: rect(1px, 1px, 1px, 1px);height: 1px;margin: -1px;overflow: hidden;padding: 0;position: absolute;width: 1px;}#sk-container-id-10 div.sk-estimator {font-family: monospace;background-color: #f0f8ff;border: 1px dotted black;border-radius: 0.25em;box-sizing: border-box;margin-bottom: 0.5em;}#sk-container-id-10 div.sk-estimator:hover {background-color: #d4ebff;}#sk-container-id-10 div.sk-parallel-item::after {content: \"\";width: 100%;border-bottom: 1px solid gray;flex-grow: 1;}#sk-container-id-10 div.sk-label:hover label.sk-toggleable__label {background-color: #d4ebff;}#sk-container-id-10 div.sk-serial::before {content: \"\";position: absolute;border-left: 1px solid gray;box-sizing: border-box;top: 0;bottom: 0;left: 50%;z-index: 0;}#sk-container-id-10 div.sk-serial {display: flex;flex-direction: column;align-items: center;background-color: white;padding-right: 0.2em;padding-left: 0.2em;position: relative;}#sk-container-id-10 div.sk-item {position: relative;z-index: 1;}#sk-container-id-10 div.sk-parallel {display: flex;align-items: stretch;justify-content: center;background-color: white;position: relative;}#sk-container-id-10 div.sk-item::before, #sk-container-id-10 div.sk-parallel-item::before {content: \"\";position: absolute;border-left: 1px solid gray;box-sizing: border-box;top: 0;bottom: 0;left: 50%;z-index: -1;}#sk-container-id-10 div.sk-parallel-item {display: flex;flex-direction: column;z-index: 1;position: relative;background-color: white;}#sk-container-id-10 div.sk-parallel-item:first-child::after {align-self: flex-end;width: 50%;}#sk-container-id-10 div.sk-parallel-item:last-child::after {align-self: flex-start;width: 50%;}#sk-container-id-10 div.sk-parallel-item:only-child::after {width: 0;}#sk-container-id-10 div.sk-dashed-wrapped {border: 1px dashed gray;margin: 0 0.4em 0.5em 0.4em;box-sizing: border-box;padding-bottom: 0.4em;background-color: white;}#sk-container-id-10 div.sk-label label {font-family: monospace;font-weight: bold;display: inline-block;line-height: 1.2em;}#sk-container-id-10 div.sk-label-container {text-align: center;}#sk-container-id-10 div.sk-container {/* jupyter's `normalize.less` sets `[hidden] { display: none; }` but bootstrap.min.css set `[hidden] { display: none !important; }` so we also need the `!important` here to be able to override the default hidden behavior on the sphinx rendered scikit-learn.org. See: https://github.com/scikit-learn/scikit-learn/issues/21755 */display: inline-block !important;position: relative;}#sk-container-id-10 div.sk-text-repr-fallback {display: none;}</style><div id=\"sk-container-id-10\" class=\"sk-top-container\"><div class=\"sk-text-repr-fallback\"><pre>AdaBoostClassifier(algorithm=&#x27;SAMME&#x27;,\n",
       "                   base_estimator=DecisionTreeClassifier(max_depth=10,\n",
       "                                                         min_samples_split=3),\n",
       "                   learning_rate=0.5, n_estimators=300)</pre><b>In a Jupyter environment, please rerun this cell to show the HTML representation or trust the notebook. <br />On GitHub, the HTML representation is unable to render, please try loading this page with nbviewer.org.</b></div><div class=\"sk-container\" hidden><div class=\"sk-item sk-dashed-wrapped\"><div class=\"sk-label-container\"><div class=\"sk-label sk-toggleable\"><input class=\"sk-toggleable__control sk-hidden--visually\" id=\"sk-estimator-id-24\" type=\"checkbox\" ><label for=\"sk-estimator-id-24\" class=\"sk-toggleable__label sk-toggleable__label-arrow\">AdaBoostClassifier</label><div class=\"sk-toggleable__content\"><pre>AdaBoostClassifier(algorithm=&#x27;SAMME&#x27;,\n",
       "                   base_estimator=DecisionTreeClassifier(max_depth=10,\n",
       "                                                         min_samples_split=3),\n",
       "                   learning_rate=0.5, n_estimators=300)</pre></div></div></div><div class=\"sk-parallel\"><div class=\"sk-parallel-item\"><div class=\"sk-item\"><div class=\"sk-label-container\"><div class=\"sk-label sk-toggleable\"><input class=\"sk-toggleable__control sk-hidden--visually\" id=\"sk-estimator-id-25\" type=\"checkbox\" ><label for=\"sk-estimator-id-25\" class=\"sk-toggleable__label sk-toggleable__label-arrow\">base_estimator: DecisionTreeClassifier</label><div class=\"sk-toggleable__content\"><pre>DecisionTreeClassifier(max_depth=10, min_samples_split=3)</pre></div></div></div><div class=\"sk-serial\"><div class=\"sk-item\"><div class=\"sk-estimator sk-toggleable\"><input class=\"sk-toggleable__control sk-hidden--visually\" id=\"sk-estimator-id-26\" type=\"checkbox\" ><label for=\"sk-estimator-id-26\" class=\"sk-toggleable__label sk-toggleable__label-arrow\">DecisionTreeClassifier</label><div class=\"sk-toggleable__content\"><pre>DecisionTreeClassifier(max_depth=10, min_samples_split=3)</pre></div></div></div></div></div></div></div></div></div></div>"
      ],
      "text/plain": [
       "AdaBoostClassifier(algorithm='SAMME',\n",
       "                   base_estimator=DecisionTreeClassifier(max_depth=10,\n",
       "                                                         min_samples_split=3),\n",
       "                   learning_rate=0.5, n_estimators=300)"
      ]
     },
     "execution_count": 69,
     "metadata": {},
     "output_type": "execute_result"
    }
   ],
   "source": [
    "modelo_v6_adaBoost.fit(X_treino, y_treino)"
   ]
  },
  {
   "cell_type": "code",
   "execution_count": 70,
   "metadata": {},
   "outputs": [
    {
     "data": {
      "text/plain": [
       "{'algorithm': 'SAMME',\n",
       " 'base_estimator__ccp_alpha': 0.0,\n",
       " 'base_estimator__class_weight': None,\n",
       " 'base_estimator__criterion': 'gini',\n",
       " 'base_estimator__max_depth': 10,\n",
       " 'base_estimator__max_features': None,\n",
       " 'base_estimator__max_leaf_nodes': None,\n",
       " 'base_estimator__min_impurity_decrease': 0.0,\n",
       " 'base_estimator__min_samples_leaf': 1,\n",
       " 'base_estimator__min_samples_split': 3,\n",
       " 'base_estimator__min_weight_fraction_leaf': 0.0,\n",
       " 'base_estimator__random_state': None,\n",
       " 'base_estimator__splitter': 'best',\n",
       " 'base_estimator': DecisionTreeClassifier(max_depth=10, min_samples_split=3),\n",
       " 'estimator': None,\n",
       " 'learning_rate': 0.5,\n",
       " 'n_estimators': 300,\n",
       " 'random_state': None}"
      ]
     },
     "execution_count": 70,
     "metadata": {},
     "output_type": "execute_result"
    }
   ],
   "source": [
    "modelo_v6_adaBoost.get_params()"
   ]
  },
  {
   "cell_type": "code",
   "execution_count": 71,
   "metadata": {},
   "outputs": [],
   "source": [
    "previsoes_v6_adaBoost = modelo_v6_adaBoost.predict(X_teste)"
   ]
  },
  {
   "cell_type": "code",
   "execution_count": 72,
   "metadata": {},
   "outputs": [
    {
     "data": {
      "text/plain": [
       "{'Modelo': 'AdaBoost',\n",
       " 'Versão': '6',\n",
       " 'Detalhes': 'DecisionTree - Gini',\n",
       " 'Precision': 0.931,\n",
       " 'Recall': 0.972,\n",
       " 'F1_Score': 0.951,\n",
       " 'Acurácia': 0.951,\n",
       " 'AUC': 0.952}"
      ]
     },
     "execution_count": 72,
     "metadata": {},
     "output_type": "execute_result"
    }
   ],
   "source": [
    "modelo_v6_metricas = {\n",
    " \"Modelo\": \"AdaBoost\",\n",
    " \"Versão\": \"6\",\n",
    " \"Detalhes\": \"DecisionTree - Gini\",\n",
    " \"Precision\": round(precision_score(previsoes_v6_adaBoost, y_teste), 3),\n",
    " \"Recall\": round(recall_score(previsoes_v6_adaBoost, y_teste), 3),\n",
    " \"F1_Score\": round(f1_score(previsoes_v6_adaBoost, y_teste), 3),\n",
    " \"Acurácia\": round(accuracy_score(previsoes_v6_adaBoost, y_teste), 3),\n",
    " \"AUC\": round(roc_auc_score(y_teste, previsoes_v6_adaBoost), 3) #AUC inverte a ordem dos dados -  primeiro real depois previsões\n",
    "}\n",
    "modelo_v6_metricas"
   ]
  },
  {
   "cell_type": "markdown",
   "metadata": {},
   "source": [
    "# <font color = 'red'> --------------</font>\n",
    "\n",
    "# <font color = 'red'>Support Vector Classifier</font>"
   ]
  },
  {
   "cell_type": "code",
   "execution_count": 92,
   "metadata": {},
   "outputs": [],
   "source": [
    "clf_svc = SVC()"
   ]
  },
  {
   "cell_type": "code",
   "execution_count": 96,
   "metadata": {},
   "outputs": [],
   "source": [
    "param = {\n",
    " 'kernel' : ['Linear', 'rbf', 'poly']\n",
    "}"
   ]
  },
  {
   "cell_type": "code",
   "execution_count": 97,
   "metadata": {},
   "outputs": [],
   "source": [
    "C_range = np.array([50., 100., 200.]),\n",
    "gamma_range = np.array([0.3*0.001, 0.001, 3*0.001])\n",
    "kernel_svm = ['Linear', 'rbf', 'poly']\n",
    "\n",
    "svm_param_grid = dict(kernel = kernel_svm, gamma = gamma_range, C = C_range)\n",
    "modelo_v7_SVC_GS = GridSearchCV(clf_svc, param, cv = 3) # cv = validações cruzadas\n"
   ]
  },
  {
   "cell_type": "code",
   "execution_count": 98,
   "metadata": {},
   "outputs": [
    {
     "data": {
      "text/html": [
       "<style>#sk-container-id-11 {color: black;background-color: white;}#sk-container-id-11 pre{padding: 0;}#sk-container-id-11 div.sk-toggleable {background-color: white;}#sk-container-id-11 label.sk-toggleable__label {cursor: pointer;display: block;width: 100%;margin-bottom: 0;padding: 0.3em;box-sizing: border-box;text-align: center;}#sk-container-id-11 label.sk-toggleable__label-arrow:before {content: \"▸\";float: left;margin-right: 0.25em;color: #696969;}#sk-container-id-11 label.sk-toggleable__label-arrow:hover:before {color: black;}#sk-container-id-11 div.sk-estimator:hover label.sk-toggleable__label-arrow:before {color: black;}#sk-container-id-11 div.sk-toggleable__content {max-height: 0;max-width: 0;overflow: hidden;text-align: left;background-color: #f0f8ff;}#sk-container-id-11 div.sk-toggleable__content pre {margin: 0.2em;color: black;border-radius: 0.25em;background-color: #f0f8ff;}#sk-container-id-11 input.sk-toggleable__control:checked~div.sk-toggleable__content {max-height: 200px;max-width: 100%;overflow: auto;}#sk-container-id-11 input.sk-toggleable__control:checked~label.sk-toggleable__label-arrow:before {content: \"▾\";}#sk-container-id-11 div.sk-estimator input.sk-toggleable__control:checked~label.sk-toggleable__label {background-color: #d4ebff;}#sk-container-id-11 div.sk-label input.sk-toggleable__control:checked~label.sk-toggleable__label {background-color: #d4ebff;}#sk-container-id-11 input.sk-hidden--visually {border: 0;clip: rect(1px 1px 1px 1px);clip: rect(1px, 1px, 1px, 1px);height: 1px;margin: -1px;overflow: hidden;padding: 0;position: absolute;width: 1px;}#sk-container-id-11 div.sk-estimator {font-family: monospace;background-color: #f0f8ff;border: 1px dotted black;border-radius: 0.25em;box-sizing: border-box;margin-bottom: 0.5em;}#sk-container-id-11 div.sk-estimator:hover {background-color: #d4ebff;}#sk-container-id-11 div.sk-parallel-item::after {content: \"\";width: 100%;border-bottom: 1px solid gray;flex-grow: 1;}#sk-container-id-11 div.sk-label:hover label.sk-toggleable__label {background-color: #d4ebff;}#sk-container-id-11 div.sk-serial::before {content: \"\";position: absolute;border-left: 1px solid gray;box-sizing: border-box;top: 0;bottom: 0;left: 50%;z-index: 0;}#sk-container-id-11 div.sk-serial {display: flex;flex-direction: column;align-items: center;background-color: white;padding-right: 0.2em;padding-left: 0.2em;position: relative;}#sk-container-id-11 div.sk-item {position: relative;z-index: 1;}#sk-container-id-11 div.sk-parallel {display: flex;align-items: stretch;justify-content: center;background-color: white;position: relative;}#sk-container-id-11 div.sk-item::before, #sk-container-id-11 div.sk-parallel-item::before {content: \"\";position: absolute;border-left: 1px solid gray;box-sizing: border-box;top: 0;bottom: 0;left: 50%;z-index: -1;}#sk-container-id-11 div.sk-parallel-item {display: flex;flex-direction: column;z-index: 1;position: relative;background-color: white;}#sk-container-id-11 div.sk-parallel-item:first-child::after {align-self: flex-end;width: 50%;}#sk-container-id-11 div.sk-parallel-item:last-child::after {align-self: flex-start;width: 50%;}#sk-container-id-11 div.sk-parallel-item:only-child::after {width: 0;}#sk-container-id-11 div.sk-dashed-wrapped {border: 1px dashed gray;margin: 0 0.4em 0.5em 0.4em;box-sizing: border-box;padding-bottom: 0.4em;background-color: white;}#sk-container-id-11 div.sk-label label {font-family: monospace;font-weight: bold;display: inline-block;line-height: 1.2em;}#sk-container-id-11 div.sk-label-container {text-align: center;}#sk-container-id-11 div.sk-container {/* jupyter's `normalize.less` sets `[hidden] { display: none; }` but bootstrap.min.css set `[hidden] { display: none !important; }` so we also need the `!important` here to be able to override the default hidden behavior on the sphinx rendered scikit-learn.org. See: https://github.com/scikit-learn/scikit-learn/issues/21755 */display: inline-block !important;position: relative;}#sk-container-id-11 div.sk-text-repr-fallback {display: none;}</style><div id=\"sk-container-id-11\" class=\"sk-top-container\"><div class=\"sk-text-repr-fallback\"><pre>GridSearchCV(cv=3, estimator=SVC(),\n",
       "             param_grid={&#x27;kernel&#x27;: [&#x27;Linear&#x27;, &#x27;rbf&#x27;, &#x27;poly&#x27;]})</pre><b>In a Jupyter environment, please rerun this cell to show the HTML representation or trust the notebook. <br />On GitHub, the HTML representation is unable to render, please try loading this page with nbviewer.org.</b></div><div class=\"sk-container\" hidden><div class=\"sk-item sk-dashed-wrapped\"><div class=\"sk-label-container\"><div class=\"sk-label sk-toggleable\"><input class=\"sk-toggleable__control sk-hidden--visually\" id=\"sk-estimator-id-27\" type=\"checkbox\" ><label for=\"sk-estimator-id-27\" class=\"sk-toggleable__label sk-toggleable__label-arrow\">GridSearchCV</label><div class=\"sk-toggleable__content\"><pre>GridSearchCV(cv=3, estimator=SVC(),\n",
       "             param_grid={&#x27;kernel&#x27;: [&#x27;Linear&#x27;, &#x27;rbf&#x27;, &#x27;poly&#x27;]})</pre></div></div></div><div class=\"sk-parallel\"><div class=\"sk-parallel-item\"><div class=\"sk-item\"><div class=\"sk-label-container\"><div class=\"sk-label sk-toggleable\"><input class=\"sk-toggleable__control sk-hidden--visually\" id=\"sk-estimator-id-28\" type=\"checkbox\" ><label for=\"sk-estimator-id-28\" class=\"sk-toggleable__label sk-toggleable__label-arrow\">estimator: SVC</label><div class=\"sk-toggleable__content\"><pre>SVC()</pre></div></div></div><div class=\"sk-serial\"><div class=\"sk-item\"><div class=\"sk-estimator sk-toggleable\"><input class=\"sk-toggleable__control sk-hidden--visually\" id=\"sk-estimator-id-29\" type=\"checkbox\" ><label for=\"sk-estimator-id-29\" class=\"sk-toggleable__label sk-toggleable__label-arrow\">SVC</label><div class=\"sk-toggleable__content\"><pre>SVC()</pre></div></div></div></div></div></div></div></div></div></div>"
      ],
      "text/plain": [
       "GridSearchCV(cv=3, estimator=SVC(),\n",
       "             param_grid={'kernel': ['Linear', 'rbf', 'poly']})"
      ]
     },
     "execution_count": 98,
     "metadata": {},
     "output_type": "execute_result"
    }
   ],
   "source": [
    "modelo_v7_SVC_GS.fit(X_treino, y_treino)"
   ]
  },
  {
   "cell_type": "code",
   "execution_count": 102,
   "metadata": {},
   "outputs": [
    {
     "data": {
      "text/plain": [
       "{'kernel': 'rbf'}"
      ]
     },
     "execution_count": 102,
     "metadata": {},
     "output_type": "execute_result"
    }
   ],
   "source": [
    "modelo_v7_SVC_GS.best_params_"
   ]
  },
  {
   "cell_type": "code",
   "execution_count": 103,
   "metadata": {},
   "outputs": [],
   "source": [
    "previsoes_v7_SVM_kernel_rbf = modelo_v7_SVC_GS.predict(X_teste)"
   ]
  },
  {
   "cell_type": "code",
   "execution_count": 104,
   "metadata": {},
   "outputs": [
    {
     "data": {
      "text/plain": [
       "{'Modelo': 'SVC',\n",
       " 'Versão': '7',\n",
       " 'Detalhes': 'Kernel RBF',\n",
       " 'Precision': 0.766,\n",
       " 'Recall': 0.901,\n",
       " 'F1_Score': 0.828,\n",
       " 'Acurácia': 0.839,\n",
       " 'AUC': 0.84}"
      ]
     },
     "execution_count": 104,
     "metadata": {},
     "output_type": "execute_result"
    }
   ],
   "source": [
    "modelo_v7_metricas = {\n",
    " \"Modelo\": \"SVC\",\n",
    " \"Versão\": \"7\",\n",
    " \"Detalhes\": \"Kernel RBF\",\n",
    " \"Precision\": round(precision_score(previsoes_v7_SVM_kernel_rbf, y_teste), 3),\n",
    " \"Recall\": round(recall_score(previsoes_v7_SVM_kernel_rbf, y_teste), 3),\n",
    " \"F1_Score\": round(f1_score(previsoes_v7_SVM_kernel_rbf, y_teste), 3),\n",
    " \"Acurácia\": round(accuracy_score(previsoes_v7_SVM_kernel_rbf, y_teste), 3),\n",
    " \"AUC\": round(roc_auc_score(y_teste, previsoes_v7_SVM_kernel_rbf), 3) #AUC inverte a ordem dos dados -  primeiro real depois previsões\n",
    "}\n",
    "modelo_v7_metricas"
   ]
  },
  {
   "cell_type": "markdown",
   "metadata": {},
   "source": [
    "## Final da modelagem preditiva\n",
    "\n",
    "abaixo realizarei a comparação entre os modelos treinados "
   ]
  },
  {
   "cell_type": "code",
   "execution_count": 105,
   "metadata": {},
   "outputs": [],
   "source": [
    "resumo = pd.DataFrame({\"Modelo_V1\": pd.Series(modelo_v1_metricas),\n",
    "                       \"Modelo_V2\": pd.Series(modelo_v2_metricas),\n",
    "                       \"Modelo_V3\": pd.Series(modelo_v3_metricas),\n",
    "                       \"Modelo_V4\": pd.Series(modelo_v4_metricas),\n",
    "                       \"Modelo_V5\": pd.Series(modelo_v5_metricas),\n",
    "                       \"Modelo_V6\": pd.Series(modelo_v6_metricas),\n",
    "                       \"Modelo_V7\": pd.Series(modelo_v7_metricas)})"
   ]
  },
  {
   "cell_type": "code",
   "execution_count": 106,
   "metadata": {},
   "outputs": [
    {
     "data": {
      "text/html": [
       "<div>\n",
       "<style scoped>\n",
       "    .dataframe tbody tr th:only-of-type {\n",
       "        vertical-align: middle;\n",
       "    }\n",
       "\n",
       "    .dataframe tbody tr th {\n",
       "        vertical-align: top;\n",
       "    }\n",
       "\n",
       "    .dataframe thead th {\n",
       "        text-align: right;\n",
       "    }\n",
       "</style>\n",
       "<table border=\"1\" class=\"dataframe\">\n",
       "  <thead>\n",
       "    <tr style=\"text-align: right;\">\n",
       "      <th></th>\n",
       "      <th>Modelo_V1</th>\n",
       "      <th>Modelo_V2</th>\n",
       "      <th>Modelo_V3</th>\n",
       "      <th>Modelo_V4</th>\n",
       "      <th>Modelo_V5</th>\n",
       "      <th>Modelo_V6</th>\n",
       "      <th>Modelo_V7</th>\n",
       "    </tr>\n",
       "  </thead>\n",
       "  <tbody>\n",
       "    <tr>\n",
       "      <th>Modelo</th>\n",
       "      <td>Regressão Logística</td>\n",
       "      <td>Decision Tree GS</td>\n",
       "      <td>Random Forest</td>\n",
       "      <td>Random Forest GS</td>\n",
       "      <td>Extra Trees</td>\n",
       "      <td>AdaBoost</td>\n",
       "      <td>SVC</td>\n",
       "    </tr>\n",
       "    <tr>\n",
       "      <th>Versão</th>\n",
       "      <td>1</td>\n",
       "      <td>2</td>\n",
       "      <td>3</td>\n",
       "      <td>4</td>\n",
       "      <td>5</td>\n",
       "      <td>6</td>\n",
       "      <td>7</td>\n",
       "    </tr>\n",
       "    <tr>\n",
       "      <th>Detalhes</th>\n",
       "      <td>-</td>\n",
       "      <td>gini</td>\n",
       "      <td>Sem otimização</td>\n",
       "      <td>entropy</td>\n",
       "      <td>entropy</td>\n",
       "      <td>DecisionTree - Gini</td>\n",
       "      <td>Kernel RBF</td>\n",
       "    </tr>\n",
       "    <tr>\n",
       "      <th>Precision</th>\n",
       "      <td>0.792</td>\n",
       "      <td>0.706</td>\n",
       "      <td>0.892</td>\n",
       "      <td>0.892</td>\n",
       "      <td>0.906</td>\n",
       "      <td>0.931</td>\n",
       "      <td>0.766</td>\n",
       "    </tr>\n",
       "    <tr>\n",
       "      <th>Recall</th>\n",
       "      <td>0.795</td>\n",
       "      <td>0.972</td>\n",
       "      <td>0.963</td>\n",
       "      <td>0.96</td>\n",
       "      <td>0.942</td>\n",
       "      <td>0.972</td>\n",
       "      <td>0.901</td>\n",
       "    </tr>\n",
       "    <tr>\n",
       "      <th>F1_Score</th>\n",
       "      <td>0.794</td>\n",
       "      <td>0.817</td>\n",
       "      <td>0.926</td>\n",
       "      <td>0.925</td>\n",
       "      <td>0.924</td>\n",
       "      <td>0.951</td>\n",
       "      <td>0.828</td>\n",
       "    </tr>\n",
       "    <tr>\n",
       "      <th>Acurácia</th>\n",
       "      <td>0.792</td>\n",
       "      <td>0.841</td>\n",
       "      <td>0.928</td>\n",
       "      <td>0.927</td>\n",
       "      <td>0.924</td>\n",
       "      <td>0.951</td>\n",
       "      <td>0.839</td>\n",
       "    </tr>\n",
       "    <tr>\n",
       "      <th>AUC</th>\n",
       "      <td>0.792</td>\n",
       "      <td>0.842</td>\n",
       "      <td>0.929</td>\n",
       "      <td>0.927</td>\n",
       "      <td>0.924</td>\n",
       "      <td>0.952</td>\n",
       "      <td>0.84</td>\n",
       "    </tr>\n",
       "  </tbody>\n",
       "</table>\n",
       "</div>"
      ],
      "text/plain": [
       "                     Modelo_V1         Modelo_V2       Modelo_V3  \\\n",
       "Modelo     Regressão Logística  Decision Tree GS   Random Forest   \n",
       "Versão                       1                 2               3   \n",
       "Detalhes                    -               gini  Sem otimização   \n",
       "Precision                0.792             0.706           0.892   \n",
       "Recall                   0.795             0.972           0.963   \n",
       "F1_Score                 0.794             0.817           0.926   \n",
       "Acurácia                 0.792             0.841           0.928   \n",
       "AUC                      0.792             0.842           0.929   \n",
       "\n",
       "                  Modelo_V4    Modelo_V5            Modelo_V6   Modelo_V7  \n",
       "Modelo     Random Forest GS  Extra Trees             AdaBoost         SVC  \n",
       "Versão                    4            5                    6           7  \n",
       "Detalhes            entropy      entropy  DecisionTree - Gini  Kernel RBF  \n",
       "Precision             0.892        0.906                0.931       0.766  \n",
       "Recall                 0.96        0.942                0.972       0.901  \n",
       "F1_Score              0.925        0.924                0.951       0.828  \n",
       "Acurácia              0.927        0.924                0.951       0.839  \n",
       "AUC                   0.927        0.924                0.952        0.84  "
      ]
     },
     "execution_count": 106,
     "metadata": {},
     "output_type": "execute_result"
    }
   ],
   "source": [
    "resumo"
   ]
  },
  {
   "cell_type": "markdown",
   "metadata": {},
   "source": [
    "## Salvando Modelo com Melhor performance\n",
    "\n",
    "Modelo_v6 que utiliza o AdaBoost "
   ]
  },
  {
   "cell_type": "code",
   "execution_count": 117,
   "metadata": {},
   "outputs": [],
   "source": [
    "import joblib\n",
    "import os"
   ]
  },
  {
   "cell_type": "code",
   "execution_count": 116,
   "metadata": {},
   "outputs": [
    {
     "data": {
      "text/plain": [
       "['C:/Projetos Pessoais/DataScience/analise_Risco_Credito/models\\\\modelo_v6_adaboost.pkl']"
      ]
     },
     "execution_count": 116,
     "metadata": {},
     "output_type": "execute_result"
    }
   ],
   "source": [
    "directory = 'C:/Projetos Pessoais/DataScience/analise_Risco_Credito/models'\n",
    "if not os.path.exists(directory):\n",
    "    os.makedirs(directory)\n",
    "\n",
    "# Salve o modelo no arquivo especificado\n",
    "modelo_path = os.path.join(directory, 'modelo_v6_adaboost.pkl')\n",
    "joblib.dump(modelo_v6_adaBoost, modelo_path)"
   ]
  },
  {
   "cell_type": "markdown",
   "metadata": {},
   "source": [
    "# <font color = 'red'> --------------</font>\n",
    "\n",
    "# <font color = 'red'>Deploy</font>"
   ]
  },
  {
   "cell_type": "code",
   "execution_count": 120,
   "metadata": {},
   "outputs": [
    {
     "data": {
      "text/html": [
       "<div>\n",
       "<style scoped>\n",
       "    .dataframe tbody tr th:only-of-type {\n",
       "        vertical-align: middle;\n",
       "    }\n",
       "\n",
       "    .dataframe tbody tr th {\n",
       "        vertical-align: top;\n",
       "    }\n",
       "\n",
       "    .dataframe thead th {\n",
       "        text-align: right;\n",
       "    }\n",
       "</style>\n",
       "<table border=\"1\" class=\"dataframe\">\n",
       "  <thead>\n",
       "    <tr style=\"text-align: right;\">\n",
       "      <th></th>\n",
       "      <th>Renda_Anual</th>\n",
       "      <th>Anos_no_Emprego</th>\n",
       "      <th>Grau_Emprestimo</th>\n",
       "      <th>Valor</th>\n",
       "      <th>Taxa_Juros</th>\n",
       "      <th>Comprometimento_Renda</th>\n",
       "      <th>Inadimplencia_Historica</th>\n",
       "      <th>Tipo_Moradia_Hipoteca</th>\n",
       "      <th>Tipo_Moradia_Outro</th>\n",
       "      <th>Tipo_Moradia_Próprio</th>\n",
       "      <th>Motivo_Emprestimo_Educação</th>\n",
       "      <th>Motivo_Emprestimo_Empreendimento</th>\n",
       "      <th>Motivo_Emprestimo_Médico</th>\n",
       "      <th>Motivo_Emprestimo_Pessoal</th>\n",
       "      <th>Motivo_Emprestimo_Reformas Domésticas</th>\n",
       "    </tr>\n",
       "  </thead>\n",
       "  <tbody>\n",
       "    <tr>\n",
       "      <th>17130</th>\n",
       "      <td>-0.359045</td>\n",
       "      <td>-1.296815</td>\n",
       "      <td>2</td>\n",
       "      <td>-0.254463</td>\n",
       "      <td>0.558942</td>\n",
       "      <td>-0.083139</td>\n",
       "      <td>0</td>\n",
       "      <td>0</td>\n",
       "      <td>0</td>\n",
       "      <td>0</td>\n",
       "      <td>0</td>\n",
       "      <td>0</td>\n",
       "      <td>0</td>\n",
       "      <td>0</td>\n",
       "      <td>1</td>\n",
       "    </tr>\n",
       "    <tr>\n",
       "      <th>14704</th>\n",
       "      <td>-0.278445</td>\n",
       "      <td>-0.699305</td>\n",
       "      <td>2</td>\n",
       "      <td>0.826269</td>\n",
       "      <td>0.807544</td>\n",
       "      <td>0.961358</td>\n",
       "      <td>1</td>\n",
       "      <td>0</td>\n",
       "      <td>0</td>\n",
       "      <td>0</td>\n",
       "      <td>0</td>\n",
       "      <td>0</td>\n",
       "      <td>1</td>\n",
       "      <td>0</td>\n",
       "      <td>0</td>\n",
       "    </tr>\n",
       "    <tr>\n",
       "      <th>25050</th>\n",
       "      <td>-0.966405</td>\n",
       "      <td>0.454315</td>\n",
       "      <td>3</td>\n",
       "      <td>-1.254081</td>\n",
       "      <td>1.338785</td>\n",
       "      <td>-0.959859</td>\n",
       "      <td>1</td>\n",
       "      <td>0</td>\n",
       "      <td>0</td>\n",
       "      <td>0</td>\n",
       "      <td>0</td>\n",
       "      <td>0</td>\n",
       "      <td>0</td>\n",
       "      <td>0</td>\n",
       "      <td>0</td>\n",
       "    </tr>\n",
       "    <tr>\n",
       "      <th>32517</th>\n",
       "      <td>-0.164683</td>\n",
       "      <td>1.748870</td>\n",
       "      <td>0</td>\n",
       "      <td>-0.077445</td>\n",
       "      <td>-1.620365</td>\n",
       "      <td>-0.102575</td>\n",
       "      <td>0</td>\n",
       "      <td>1</td>\n",
       "      <td>0</td>\n",
       "      <td>0</td>\n",
       "      <td>0</td>\n",
       "      <td>0</td>\n",
       "      <td>1</td>\n",
       "      <td>0</td>\n",
       "      <td>0</td>\n",
       "    </tr>\n",
       "    <tr>\n",
       "      <th>34727</th>\n",
       "      <td>0.518544</td>\n",
       "      <td>-1.296815</td>\n",
       "      <td>3</td>\n",
       "      <td>-0.792606</td>\n",
       "      <td>1.436555</td>\n",
       "      <td>-1.092773</td>\n",
       "      <td>0</td>\n",
       "      <td>0</td>\n",
       "      <td>0</td>\n",
       "      <td>0</td>\n",
       "      <td>0</td>\n",
       "      <td>0</td>\n",
       "      <td>0</td>\n",
       "      <td>0</td>\n",
       "      <td>0</td>\n",
       "    </tr>\n",
       "    <tr>\n",
       "      <th>...</th>\n",
       "      <td>...</td>\n",
       "      <td>...</td>\n",
       "      <td>...</td>\n",
       "      <td>...</td>\n",
       "      <td>...</td>\n",
       "      <td>...</td>\n",
       "      <td>...</td>\n",
       "      <td>...</td>\n",
       "      <td>...</td>\n",
       "      <td>...</td>\n",
       "      <td>...</td>\n",
       "      <td>...</td>\n",
       "      <td>...</td>\n",
       "      <td>...</td>\n",
       "      <td>...</td>\n",
       "    </tr>\n",
       "    <tr>\n",
       "      <th>22598</th>\n",
       "      <td>-0.857761</td>\n",
       "      <td>-0.794564</td>\n",
       "      <td>0</td>\n",
       "      <td>-0.470610</td>\n",
       "      <td>-1.431340</td>\n",
       "      <td>0.159054</td>\n",
       "      <td>0</td>\n",
       "      <td>0</td>\n",
       "      <td>0</td>\n",
       "      <td>0</td>\n",
       "      <td>0</td>\n",
       "      <td>0</td>\n",
       "      <td>0</td>\n",
       "      <td>0</td>\n",
       "      <td>0</td>\n",
       "    </tr>\n",
       "    <tr>\n",
       "      <th>12987</th>\n",
       "      <td>0.083370</td>\n",
       "      <td>1.093228</td>\n",
       "      <td>1</td>\n",
       "      <td>1.907002</td>\n",
       "      <td>-0.205747</td>\n",
       "      <td>1.541635</td>\n",
       "      <td>0</td>\n",
       "      <td>0</td>\n",
       "      <td>0</td>\n",
       "      <td>0</td>\n",
       "      <td>0</td>\n",
       "      <td>1</td>\n",
       "      <td>0</td>\n",
       "      <td>0</td>\n",
       "      <td>0</td>\n",
       "    </tr>\n",
       "    <tr>\n",
       "      <th>32244</th>\n",
       "      <td>-1.011976</td>\n",
       "      <td>-0.688377</td>\n",
       "      <td>3</td>\n",
       "      <td>0.071074</td>\n",
       "      <td>1.623044</td>\n",
       "      <td>1.315184</td>\n",
       "      <td>0</td>\n",
       "      <td>0</td>\n",
       "      <td>0</td>\n",
       "      <td>0</td>\n",
       "      <td>0</td>\n",
       "      <td>0</td>\n",
       "      <td>1</td>\n",
       "      <td>0</td>\n",
       "      <td>0</td>\n",
       "    </tr>\n",
       "    <tr>\n",
       "      <th>12022</th>\n",
       "      <td>-1.565633</td>\n",
       "      <td>0.495717</td>\n",
       "      <td>2</td>\n",
       "      <td>-1.443269</td>\n",
       "      <td>0.536914</td>\n",
       "      <td>-0.895526</td>\n",
       "      <td>1</td>\n",
       "      <td>0</td>\n",
       "      <td>0</td>\n",
       "      <td>0</td>\n",
       "      <td>0</td>\n",
       "      <td>0</td>\n",
       "      <td>0</td>\n",
       "      <td>0</td>\n",
       "      <td>0</td>\n",
       "    </tr>\n",
       "    <tr>\n",
       "      <th>25347</th>\n",
       "      <td>-1.893484</td>\n",
       "      <td>-1.296815</td>\n",
       "      <td>0</td>\n",
       "      <td>-1.381400</td>\n",
       "      <td>-0.617986</td>\n",
       "      <td>0.253011</td>\n",
       "      <td>0</td>\n",
       "      <td>0</td>\n",
       "      <td>0</td>\n",
       "      <td>0</td>\n",
       "      <td>1</td>\n",
       "      <td>0</td>\n",
       "      <td>0</td>\n",
       "      <td>0</td>\n",
       "      <td>0</td>\n",
       "    </tr>\n",
       "  </tbody>\n",
       "</table>\n",
       "<p>6989 rows × 15 columns</p>\n",
       "</div>"
      ],
      "text/plain": [
       "       Renda_Anual  Anos_no_Emprego  Grau_Emprestimo     Valor  Taxa_Juros  \\\n",
       "17130    -0.359045        -1.296815                2 -0.254463    0.558942   \n",
       "14704    -0.278445        -0.699305                2  0.826269    0.807544   \n",
       "25050    -0.966405         0.454315                3 -1.254081    1.338785   \n",
       "32517    -0.164683         1.748870                0 -0.077445   -1.620365   \n",
       "34727     0.518544        -1.296815                3 -0.792606    1.436555   \n",
       "...            ...              ...              ...       ...         ...   \n",
       "22598    -0.857761        -0.794564                0 -0.470610   -1.431340   \n",
       "12987     0.083370         1.093228                1  1.907002   -0.205747   \n",
       "32244    -1.011976        -0.688377                3  0.071074    1.623044   \n",
       "12022    -1.565633         0.495717                2 -1.443269    0.536914   \n",
       "25347    -1.893484        -1.296815                0 -1.381400   -0.617986   \n",
       "\n",
       "       Comprometimento_Renda  Inadimplencia_Historica  Tipo_Moradia_Hipoteca  \\\n",
       "17130              -0.083139                        0                      0   \n",
       "14704               0.961358                        1                      0   \n",
       "25050              -0.959859                        1                      0   \n",
       "32517              -0.102575                        0                      1   \n",
       "34727              -1.092773                        0                      0   \n",
       "...                      ...                      ...                    ...   \n",
       "22598               0.159054                        0                      0   \n",
       "12987               1.541635                        0                      0   \n",
       "32244               1.315184                        0                      0   \n",
       "12022              -0.895526                        1                      0   \n",
       "25347               0.253011                        0                      0   \n",
       "\n",
       "       Tipo_Moradia_Outro  Tipo_Moradia_Próprio  Motivo_Emprestimo_Educação  \\\n",
       "17130                   0                     0                           0   \n",
       "14704                   0                     0                           0   \n",
       "25050                   0                     0                           0   \n",
       "32517                   0                     0                           0   \n",
       "34727                   0                     0                           0   \n",
       "...                   ...                   ...                         ...   \n",
       "22598                   0                     0                           0   \n",
       "12987                   0                     0                           0   \n",
       "32244                   0                     0                           0   \n",
       "12022                   0                     0                           0   \n",
       "25347                   0                     0                           1   \n",
       "\n",
       "       Motivo_Emprestimo_Empreendimento  Motivo_Emprestimo_Médico  \\\n",
       "17130                                 0                         0   \n",
       "14704                                 0                         1   \n",
       "25050                                 0                         0   \n",
       "32517                                 0                         1   \n",
       "34727                                 0                         0   \n",
       "...                                 ...                       ...   \n",
       "22598                                 0                         0   \n",
       "12987                                 1                         0   \n",
       "32244                                 0                         1   \n",
       "12022                                 0                         0   \n",
       "25347                                 0                         0   \n",
       "\n",
       "       Motivo_Emprestimo_Pessoal  Motivo_Emprestimo_Reformas Domésticas  \n",
       "17130                          0                                      1  \n",
       "14704                          0                                      0  \n",
       "25050                          0                                      0  \n",
       "32517                          0                                      0  \n",
       "34727                          0                                      0  \n",
       "...                          ...                                    ...  \n",
       "22598                          0                                      0  \n",
       "12987                          0                                      0  \n",
       "32244                          0                                      0  \n",
       "12022                          0                                      0  \n",
       "25347                          0                                      0  \n",
       "\n",
       "[6989 rows x 15 columns]"
      ]
     },
     "execution_count": 120,
     "metadata": {},
     "output_type": "execute_result"
    }
   ],
   "source": [
    "X_teste"
   ]
  },
  {
   "cell_type": "code",
   "execution_count": 123,
   "metadata": {},
   "outputs": [
    {
     "name": "stdout",
     "output_type": "stream",
     "text": [
      "<class 'pandas.core.frame.DataFrame'>\n",
      "Index: 6989 entries, 17130 to 25347\n",
      "Data columns (total 15 columns):\n",
      " #   Column                                 Non-Null Count  Dtype  \n",
      "---  ------                                 --------------  -----  \n",
      " 0   Renda_Anual                            6989 non-null   float64\n",
      " 1   Anos_no_Emprego                        6989 non-null   float64\n",
      " 2   Grau_Emprestimo                        6989 non-null   int64  \n",
      " 3   Valor                                  6989 non-null   float64\n",
      " 4   Taxa_Juros                             6989 non-null   float64\n",
      " 5   Comprometimento_Renda                  6989 non-null   float64\n",
      " 6   Inadimplencia_Historica                6989 non-null   int64  \n",
      " 7   Tipo_Moradia_Hipoteca                  6989 non-null   int64  \n",
      " 8   Tipo_Moradia_Outro                     6989 non-null   int64  \n",
      " 9   Tipo_Moradia_Próprio                   6989 non-null   int64  \n",
      " 10  Motivo_Emprestimo_Educação             6989 non-null   int64  \n",
      " 11  Motivo_Emprestimo_Empreendimento       6989 non-null   int64  \n",
      " 12  Motivo_Emprestimo_Médico               6989 non-null   int64  \n",
      " 13  Motivo_Emprestimo_Pessoal              6989 non-null   int64  \n",
      " 14  Motivo_Emprestimo_Reformas Domésticas  6989 non-null   int64  \n",
      "dtypes: float64(5), int64(10)\n",
      "memory usage: 873.6 KB\n"
     ]
    }
   ],
   "source": [
    "X_teste.info()"
   ]
  },
  {
   "cell_type": "code",
   "execution_count": null,
   "metadata": {},
   "outputs": [],
   "source": []
  },
  {
   "cell_type": "code",
   "execution_count": null,
   "metadata": {},
   "outputs": [],
   "source": []
  }
 ],
 "metadata": {
  "kernelspec": {
   "display_name": "base",
   "language": "python",
   "name": "python3"
  },
  "language_info": {
   "codemirror_mode": {
    "name": "ipython",
    "version": 3
   },
   "file_extension": ".py",
   "mimetype": "text/x-python",
   "name": "python",
   "nbconvert_exporter": "python",
   "pygments_lexer": "ipython3",
   "version": "3.9.13"
  }
 },
 "nbformat": 4,
 "nbformat_minor": 2
}
