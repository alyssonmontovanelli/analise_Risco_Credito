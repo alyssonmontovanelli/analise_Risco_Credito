{
 "cells": [
  {
   "cell_type": "markdown",
   "metadata": {},
   "source": [
    "# <font color = \"red\">Classificação de Risco de Crédito</font>\n",
    "\n",
    "## PRÉ PROCESSAMENTO DOS DADOS E ENGENHARIA DE ATRIBUTOS \n",
    "\n",
    "<font color = \"red\">Problema de Negócio:</font> A partir de dados históricos, irei verificar os padrões que levaram os clientes de uma instituição financeira, a adentrarem, ou não, na situação de inadimplência, para posteriormente criar um \n",
    "\n",
    "<font color = \"red\">Meta de Acurácia Final:</font> ACC mínimo de 88%\n",
    "\n",
    "<font color = \"blue\">Foco deste notebook será preparar os dados para a etapa de modelagem, aplicando codifica~ção às variáveis categóricas, escalonamento às numéricas e balanceamento de classe, se for necessário. Após, analisarei a importância das variáveis, juntamente com o relatório da análise exploratória, com intuito de remover variáveis irrelevantes e correlacionadas."
   ]
  },
  {
   "cell_type": "code",
   "execution_count": 1,
   "metadata": {},
   "outputs": [],
   "source": [
    "# Imports \n",
    "import pandas as pd\n",
    "import numpy as np\n",
    "import matplotlib.pyplot as plt\n",
    "import seaborn as sns\n",
    "\n",
    "from sklearn.preprocessing import StandardScaler\n",
    "from sklearn.preprocessing import LabelEncoder\n",
    "\n",
    "# Regularização de classe\n",
    "from imblearn.over_sampling import SMOTE\n",
    "\n",
    "\n",
    "# Feature Importance\n",
    "from sklearn.ensemble import RandomForestClassifier\n",
    "\n",
    "import warnings\n",
    "warnings.filterwarnings('ignore')"
   ]
  },
  {
   "cell_type": "code",
   "execution_count": 2,
   "metadata": {},
   "outputs": [],
   "source": [
    "# Importando os dados \n",
    "df = pd.read_csv(\"C:/Projetos Pessoais/DataScience/analise_Risco_Credito/data/df_para_pre_processamento_4.csv\")"
   ]
  },
  {
   "cell_type": "markdown",
   "metadata": {},
   "source": [
    "<font color = \"red\">Codificação das Variáveis"
   ]
  },
  {
   "cell_type": "code",
   "execution_count": 3,
   "metadata": {},
   "outputs": [],
   "source": [
    "# Objeto Encoder e Standard\n",
    "lb = LabelEncoder()\n",
    "scaler = StandardScaler()"
   ]
  },
  {
   "cell_type": "code",
   "execution_count": 4,
   "metadata": {},
   "outputs": [],
   "source": [
    "df_processing = df.copy()"
   ]
  },
  {
   "cell_type": "code",
   "execution_count": 5,
   "metadata": {},
   "outputs": [
    {
     "data": {
      "text/html": [
       "<div>\n",
       "<style scoped>\n",
       "    .dataframe tbody tr th:only-of-type {\n",
       "        vertical-align: middle;\n",
       "    }\n",
       "\n",
       "    .dataframe tbody tr th {\n",
       "        vertical-align: top;\n",
       "    }\n",
       "\n",
       "    .dataframe thead th {\n",
       "        text-align: right;\n",
       "    }\n",
       "</style>\n",
       "<table border=\"1\" class=\"dataframe\">\n",
       "  <thead>\n",
       "    <tr style=\"text-align: right;\">\n",
       "      <th></th>\n",
       "      <th>Idade</th>\n",
       "      <th>Renda_Anual</th>\n",
       "      <th>Tipo_Moradia</th>\n",
       "      <th>Anos_no_Emprego</th>\n",
       "      <th>Motivo_Emprestimo</th>\n",
       "      <th>Grau_Emprestimo</th>\n",
       "      <th>Valor</th>\n",
       "      <th>Taxa_Juros</th>\n",
       "      <th>Status_Pagamento</th>\n",
       "      <th>Comprometimento_Renda</th>\n",
       "      <th>Inadimplencia_Historica</th>\n",
       "      <th>Duracao_Historico_Credito</th>\n",
       "    </tr>\n",
       "  </thead>\n",
       "  <tbody>\n",
       "    <tr>\n",
       "      <th>2381</th>\n",
       "      <td>25.0</td>\n",
       "      <td>37000.0</td>\n",
       "      <td>Hipoteca</td>\n",
       "      <td>6.0</td>\n",
       "      <td>Reformas Domésticas</td>\n",
       "      <td>D</td>\n",
       "      <td>7000.0</td>\n",
       "      <td>15.62</td>\n",
       "      <td>Adimplente</td>\n",
       "      <td>0.19</td>\n",
       "      <td>Sim</td>\n",
       "      <td>3.0</td>\n",
       "    </tr>\n",
       "  </tbody>\n",
       "</table>\n",
       "</div>"
      ],
      "text/plain": [
       "      Idade  Renda_Anual Tipo_Moradia  Anos_no_Emprego    Motivo_Emprestimo  \\\n",
       "2381   25.0      37000.0     Hipoteca              6.0  Reformas Domésticas   \n",
       "\n",
       "     Grau_Emprestimo   Valor  Taxa_Juros Status_Pagamento  \\\n",
       "2381               D  7000.0       15.62       Adimplente   \n",
       "\n",
       "      Comprometimento_Renda Inadimplencia_Historica  Duracao_Historico_Credito  \n",
       "2381                   0.19                     Sim                        3.0  "
      ]
     },
     "execution_count": 5,
     "metadata": {},
     "output_type": "execute_result"
    }
   ],
   "source": [
    "df.sample()"
   ]
  },
  {
   "cell_type": "markdown",
   "metadata": {},
   "source": [
    "- Label Encoder para variáveis"
   ]
  },
  {
   "cell_type": "code",
   "execution_count": 6,
   "metadata": {},
   "outputs": [
    {
     "data": {
      "text/html": [
       "<div>\n",
       "<style scoped>\n",
       "    .dataframe tbody tr th:only-of-type {\n",
       "        vertical-align: middle;\n",
       "    }\n",
       "\n",
       "    .dataframe tbody tr th {\n",
       "        vertical-align: top;\n",
       "    }\n",
       "\n",
       "    .dataframe thead th {\n",
       "        text-align: right;\n",
       "    }\n",
       "</style>\n",
       "<table border=\"1\" class=\"dataframe\">\n",
       "  <thead>\n",
       "    <tr style=\"text-align: right;\">\n",
       "      <th></th>\n",
       "      <th>Idade</th>\n",
       "      <th>Renda_Anual</th>\n",
       "      <th>Tipo_Moradia</th>\n",
       "      <th>Anos_no_Emprego</th>\n",
       "      <th>Motivo_Emprestimo</th>\n",
       "      <th>Grau_Emprestimo</th>\n",
       "      <th>Valor</th>\n",
       "      <th>Taxa_Juros</th>\n",
       "      <th>Status_Pagamento</th>\n",
       "      <th>Comprometimento_Renda</th>\n",
       "      <th>Inadimplencia_Historica</th>\n",
       "      <th>Duracao_Historico_Credito</th>\n",
       "    </tr>\n",
       "  </thead>\n",
       "  <tbody>\n",
       "    <tr>\n",
       "      <th>3174</th>\n",
       "      <td>26.0</td>\n",
       "      <td>40272.0</td>\n",
       "      <td>Hipoteca</td>\n",
       "      <td>3.0</td>\n",
       "      <td>Educação</td>\n",
       "      <td>1</td>\n",
       "      <td>10000.0</td>\n",
       "      <td>11.86</td>\n",
       "      <td>0</td>\n",
       "      <td>0.25</td>\n",
       "      <td>0</td>\n",
       "      <td>3.0</td>\n",
       "    </tr>\n",
       "  </tbody>\n",
       "</table>\n",
       "</div>"
      ],
      "text/plain": [
       "      Idade  Renda_Anual Tipo_Moradia  Anos_no_Emprego Motivo_Emprestimo  \\\n",
       "3174   26.0      40272.0     Hipoteca              3.0          Educação   \n",
       "\n",
       "      Grau_Emprestimo    Valor  Taxa_Juros  Status_Pagamento  \\\n",
       "3174                1  10000.0       11.86                 0   \n",
       "\n",
       "      Comprometimento_Renda  Inadimplencia_Historica  \\\n",
       "3174                   0.25                        0   \n",
       "\n",
       "      Duracao_Historico_Credito  \n",
       "3174                        3.0  "
      ]
     },
     "execution_count": 6,
     "metadata": {},
     "output_type": "execute_result"
    }
   ],
   "source": [
    "# Encoder para Varíavel Target\n",
    "df_processing['Status_Pagamento'] = lb.fit_transform(df_processing['Status_Pagamento'])\n",
    "df_processing['Inadimplencia_Historica'] = lb.fit_transform(df_processing['Inadimplencia_Historica'])\n",
    "\n",
    "# Encoder em Grau emprestimo, pois há hierarquia dentro da variável - A é melhor q B\n",
    "df_processing['Grau_Emprestimo'] = lb.fit_transform(df_processing['Grau_Emprestimo'])\n",
    "df_processing.sample()\n"
   ]
  },
  {
   "cell_type": "markdown",
   "metadata": {},
   "source": [
    "- Get Dummies para variáveis sem hierárquias e não binárias"
   ]
  },
  {
   "cell_type": "code",
   "execution_count": 7,
   "metadata": {},
   "outputs": [],
   "source": [
    "df_processing = pd.get_dummies(df_processing, columns=['Tipo_Moradia', 'Motivo_Emprestimo'], drop_first=True)"
   ]
  },
  {
   "cell_type": "code",
   "execution_count": 8,
   "metadata": {},
   "outputs": [
    {
     "data": {
      "text/html": [
       "<div>\n",
       "<style scoped>\n",
       "    .dataframe tbody tr th:only-of-type {\n",
       "        vertical-align: middle;\n",
       "    }\n",
       "\n",
       "    .dataframe tbody tr th {\n",
       "        vertical-align: top;\n",
       "    }\n",
       "\n",
       "    .dataframe thead th {\n",
       "        text-align: right;\n",
       "    }\n",
       "</style>\n",
       "<table border=\"1\" class=\"dataframe\">\n",
       "  <thead>\n",
       "    <tr style=\"text-align: right;\">\n",
       "      <th></th>\n",
       "      <th>Idade</th>\n",
       "      <th>Renda_Anual</th>\n",
       "      <th>Anos_no_Emprego</th>\n",
       "      <th>Grau_Emprestimo</th>\n",
       "      <th>Valor</th>\n",
       "      <th>Taxa_Juros</th>\n",
       "      <th>Status_Pagamento</th>\n",
       "      <th>Comprometimento_Renda</th>\n",
       "      <th>Inadimplencia_Historica</th>\n",
       "      <th>Duracao_Historico_Credito</th>\n",
       "      <th>Tipo_Moradia_Hipoteca</th>\n",
       "      <th>Tipo_Moradia_Outro</th>\n",
       "      <th>Tipo_Moradia_Próprio</th>\n",
       "      <th>Motivo_Emprestimo_Educação</th>\n",
       "      <th>Motivo_Emprestimo_Empreendimento</th>\n",
       "      <th>Motivo_Emprestimo_Médico</th>\n",
       "      <th>Motivo_Emprestimo_Pessoal</th>\n",
       "      <th>Motivo_Emprestimo_Reformas Domésticas</th>\n",
       "    </tr>\n",
       "  </thead>\n",
       "  <tbody>\n",
       "    <tr>\n",
       "      <th>0</th>\n",
       "      <td>21.0</td>\n",
       "      <td>9600.0</td>\n",
       "      <td>5.0</td>\n",
       "      <td>1</td>\n",
       "      <td>1000.0</td>\n",
       "      <td>11.14</td>\n",
       "      <td>0</td>\n",
       "      <td>0.10</td>\n",
       "      <td>0</td>\n",
       "      <td>2.0</td>\n",
       "      <td>False</td>\n",
       "      <td>False</td>\n",
       "      <td>True</td>\n",
       "      <td>True</td>\n",
       "      <td>False</td>\n",
       "      <td>False</td>\n",
       "      <td>False</td>\n",
       "      <td>False</td>\n",
       "    </tr>\n",
       "    <tr>\n",
       "      <th>1</th>\n",
       "      <td>21.0</td>\n",
       "      <td>9900.0</td>\n",
       "      <td>2.0</td>\n",
       "      <td>0</td>\n",
       "      <td>2500.0</td>\n",
       "      <td>7.14</td>\n",
       "      <td>1</td>\n",
       "      <td>0.25</td>\n",
       "      <td>0</td>\n",
       "      <td>2.0</td>\n",
       "      <td>False</td>\n",
       "      <td>False</td>\n",
       "      <td>True</td>\n",
       "      <td>False</td>\n",
       "      <td>True</td>\n",
       "      <td>False</td>\n",
       "      <td>False</td>\n",
       "      <td>False</td>\n",
       "    </tr>\n",
       "    <tr>\n",
       "      <th>2</th>\n",
       "      <td>21.0</td>\n",
       "      <td>10000.0</td>\n",
       "      <td>6.0</td>\n",
       "      <td>3</td>\n",
       "      <td>1600.0</td>\n",
       "      <td>14.74</td>\n",
       "      <td>1</td>\n",
       "      <td>0.16</td>\n",
       "      <td>0</td>\n",
       "      <td>3.0</td>\n",
       "      <td>False</td>\n",
       "      <td>False</td>\n",
       "      <td>True</td>\n",
       "      <td>False</td>\n",
       "      <td>True</td>\n",
       "      <td>False</td>\n",
       "      <td>False</td>\n",
       "      <td>False</td>\n",
       "    </tr>\n",
       "    <tr>\n",
       "      <th>3</th>\n",
       "      <td>24.0</td>\n",
       "      <td>10800.0</td>\n",
       "      <td>8.0</td>\n",
       "      <td>1</td>\n",
       "      <td>1750.0</td>\n",
       "      <td>10.99</td>\n",
       "      <td>1</td>\n",
       "      <td>0.16</td>\n",
       "      <td>0</td>\n",
       "      <td>2.0</td>\n",
       "      <td>True</td>\n",
       "      <td>False</td>\n",
       "      <td>False</td>\n",
       "      <td>True</td>\n",
       "      <td>False</td>\n",
       "      <td>False</td>\n",
       "      <td>False</td>\n",
       "      <td>False</td>\n",
       "    </tr>\n",
       "    <tr>\n",
       "      <th>4</th>\n",
       "      <td>24.0</td>\n",
       "      <td>10980.0</td>\n",
       "      <td>0.0</td>\n",
       "      <td>0</td>\n",
       "      <td>1500.0</td>\n",
       "      <td>7.29</td>\n",
       "      <td>0</td>\n",
       "      <td>0.14</td>\n",
       "      <td>0</td>\n",
       "      <td>3.0</td>\n",
       "      <td>False</td>\n",
       "      <td>False</td>\n",
       "      <td>True</td>\n",
       "      <td>False</td>\n",
       "      <td>False</td>\n",
       "      <td>False</td>\n",
       "      <td>True</td>\n",
       "      <td>False</td>\n",
       "    </tr>\n",
       "    <tr>\n",
       "      <th>...</th>\n",
       "      <td>...</td>\n",
       "      <td>...</td>\n",
       "      <td>...</td>\n",
       "      <td>...</td>\n",
       "      <td>...</td>\n",
       "      <td>...</td>\n",
       "      <td>...</td>\n",
       "      <td>...</td>\n",
       "      <td>...</td>\n",
       "      <td>...</td>\n",
       "      <td>...</td>\n",
       "      <td>...</td>\n",
       "      <td>...</td>\n",
       "      <td>...</td>\n",
       "      <td>...</td>\n",
       "      <td>...</td>\n",
       "      <td>...</td>\n",
       "      <td>...</td>\n",
       "    </tr>\n",
       "    <tr>\n",
       "      <th>21728</th>\n",
       "      <td>31.0</td>\n",
       "      <td>83000.0</td>\n",
       "      <td>9.0</td>\n",
       "      <td>5</td>\n",
       "      <td>18000.0</td>\n",
       "      <td>19.74</td>\n",
       "      <td>1</td>\n",
       "      <td>0.22</td>\n",
       "      <td>1</td>\n",
       "      <td>8.0</td>\n",
       "      <td>True</td>\n",
       "      <td>False</td>\n",
       "      <td>False</td>\n",
       "      <td>False</td>\n",
       "      <td>True</td>\n",
       "      <td>False</td>\n",
       "      <td>False</td>\n",
       "      <td>False</td>\n",
       "    </tr>\n",
       "    <tr>\n",
       "      <th>21729</th>\n",
       "      <td>29.0</td>\n",
       "      <td>61656.0</td>\n",
       "      <td>4.0</td>\n",
       "      <td>0</td>\n",
       "      <td>15000.0</td>\n",
       "      <td>6.91</td>\n",
       "      <td>0</td>\n",
       "      <td>0.24</td>\n",
       "      <td>0</td>\n",
       "      <td>9.0</td>\n",
       "      <td>False</td>\n",
       "      <td>False</td>\n",
       "      <td>False</td>\n",
       "      <td>False</td>\n",
       "      <td>False</td>\n",
       "      <td>False</td>\n",
       "      <td>True</td>\n",
       "      <td>False</td>\n",
       "    </tr>\n",
       "    <tr>\n",
       "      <th>21730</th>\n",
       "      <td>32.0</td>\n",
       "      <td>30000.0</td>\n",
       "      <td>1.0</td>\n",
       "      <td>1</td>\n",
       "      <td>11450.0</td>\n",
       "      <td>9.99</td>\n",
       "      <td>1</td>\n",
       "      <td>0.38</td>\n",
       "      <td>0</td>\n",
       "      <td>6.0</td>\n",
       "      <td>False</td>\n",
       "      <td>False</td>\n",
       "      <td>False</td>\n",
       "      <td>True</td>\n",
       "      <td>False</td>\n",
       "      <td>False</td>\n",
       "      <td>False</td>\n",
       "      <td>False</td>\n",
       "    </tr>\n",
       "    <tr>\n",
       "      <th>21731</th>\n",
       "      <td>31.0</td>\n",
       "      <td>26010.0</td>\n",
       "      <td>2.0</td>\n",
       "      <td>1</td>\n",
       "      <td>6500.0</td>\n",
       "      <td>9.99</td>\n",
       "      <td>0</td>\n",
       "      <td>0.25</td>\n",
       "      <td>0</td>\n",
       "      <td>9.0</td>\n",
       "      <td>True</td>\n",
       "      <td>False</td>\n",
       "      <td>False</td>\n",
       "      <td>False</td>\n",
       "      <td>False</td>\n",
       "      <td>False</td>\n",
       "      <td>True</td>\n",
       "      <td>False</td>\n",
       "    </tr>\n",
       "    <tr>\n",
       "      <th>21732</th>\n",
       "      <td>30.0</td>\n",
       "      <td>52000.0</td>\n",
       "      <td>4.0</td>\n",
       "      <td>1</td>\n",
       "      <td>14675.0</td>\n",
       "      <td>9.63</td>\n",
       "      <td>0</td>\n",
       "      <td>0.28</td>\n",
       "      <td>0</td>\n",
       "      <td>7.0</td>\n",
       "      <td>True</td>\n",
       "      <td>False</td>\n",
       "      <td>False</td>\n",
       "      <td>False</td>\n",
       "      <td>False</td>\n",
       "      <td>False</td>\n",
       "      <td>False</td>\n",
       "      <td>True</td>\n",
       "    </tr>\n",
       "  </tbody>\n",
       "</table>\n",
       "<p>21733 rows × 18 columns</p>\n",
       "</div>"
      ],
      "text/plain": [
       "       Idade  Renda_Anual  Anos_no_Emprego  Grau_Emprestimo    Valor  \\\n",
       "0       21.0       9600.0              5.0                1   1000.0   \n",
       "1       21.0       9900.0              2.0                0   2500.0   \n",
       "2       21.0      10000.0              6.0                3   1600.0   \n",
       "3       24.0      10800.0              8.0                1   1750.0   \n",
       "4       24.0      10980.0              0.0                0   1500.0   \n",
       "...      ...          ...              ...              ...      ...   \n",
       "21728   31.0      83000.0              9.0                5  18000.0   \n",
       "21729   29.0      61656.0              4.0                0  15000.0   \n",
       "21730   32.0      30000.0              1.0                1  11450.0   \n",
       "21731   31.0      26010.0              2.0                1   6500.0   \n",
       "21732   30.0      52000.0              4.0                1  14675.0   \n",
       "\n",
       "       Taxa_Juros  Status_Pagamento  Comprometimento_Renda  \\\n",
       "0           11.14                 0                   0.10   \n",
       "1            7.14                 1                   0.25   \n",
       "2           14.74                 1                   0.16   \n",
       "3           10.99                 1                   0.16   \n",
       "4            7.29                 0                   0.14   \n",
       "...           ...               ...                    ...   \n",
       "21728       19.74                 1                   0.22   \n",
       "21729        6.91                 0                   0.24   \n",
       "21730        9.99                 1                   0.38   \n",
       "21731        9.99                 0                   0.25   \n",
       "21732        9.63                 0                   0.28   \n",
       "\n",
       "       Inadimplencia_Historica  Duracao_Historico_Credito  \\\n",
       "0                            0                        2.0   \n",
       "1                            0                        2.0   \n",
       "2                            0                        3.0   \n",
       "3                            0                        2.0   \n",
       "4                            0                        3.0   \n",
       "...                        ...                        ...   \n",
       "21728                        1                        8.0   \n",
       "21729                        0                        9.0   \n",
       "21730                        0                        6.0   \n",
       "21731                        0                        9.0   \n",
       "21732                        0                        7.0   \n",
       "\n",
       "       Tipo_Moradia_Hipoteca  Tipo_Moradia_Outro  Tipo_Moradia_Próprio  \\\n",
       "0                      False               False                  True   \n",
       "1                      False               False                  True   \n",
       "2                      False               False                  True   \n",
       "3                       True               False                 False   \n",
       "4                      False               False                  True   \n",
       "...                      ...                 ...                   ...   \n",
       "21728                   True               False                 False   \n",
       "21729                  False               False                 False   \n",
       "21730                  False               False                 False   \n",
       "21731                   True               False                 False   \n",
       "21732                   True               False                 False   \n",
       "\n",
       "       Motivo_Emprestimo_Educação  Motivo_Emprestimo_Empreendimento  \\\n",
       "0                            True                             False   \n",
       "1                           False                              True   \n",
       "2                           False                              True   \n",
       "3                            True                             False   \n",
       "4                           False                             False   \n",
       "...                           ...                               ...   \n",
       "21728                       False                              True   \n",
       "21729                       False                             False   \n",
       "21730                        True                             False   \n",
       "21731                       False                             False   \n",
       "21732                       False                             False   \n",
       "\n",
       "       Motivo_Emprestimo_Médico  Motivo_Emprestimo_Pessoal  \\\n",
       "0                         False                      False   \n",
       "1                         False                      False   \n",
       "2                         False                      False   \n",
       "3                         False                      False   \n",
       "4                         False                       True   \n",
       "...                         ...                        ...   \n",
       "21728                     False                      False   \n",
       "21729                     False                       True   \n",
       "21730                     False                      False   \n",
       "21731                     False                       True   \n",
       "21732                     False                      False   \n",
       "\n",
       "       Motivo_Emprestimo_Reformas Domésticas  \n",
       "0                                      False  \n",
       "1                                      False  \n",
       "2                                      False  \n",
       "3                                      False  \n",
       "4                                      False  \n",
       "...                                      ...  \n",
       "21728                                  False  \n",
       "21729                                  False  \n",
       "21730                                  False  \n",
       "21731                                  False  \n",
       "21732                                   True  \n",
       "\n",
       "[21733 rows x 18 columns]"
      ]
     },
     "execution_count": 8,
     "metadata": {},
     "output_type": "execute_result"
    }
   ],
   "source": [
    "df_processing"
   ]
  },
  {
   "cell_type": "code",
   "execution_count": 9,
   "metadata": {},
   "outputs": [],
   "source": [
    "# Os dados ficaram no formato True/False - transformar em 0 e 1\n",
    "var_dummies = ['Tipo_Moradia_Hipoteca',\t'Tipo_Moradia_Outro','Tipo_Moradia_Próprio',\n",
    "               'Motivo_Emprestimo_Educação', 'Motivo_Emprestimo_Empreendimento', 'Motivo_Emprestimo_Médico',\n",
    "            \t'Motivo_Emprestimo_Pessoal', 'Motivo_Emprestimo_Reformas Domésticas']\n",
    "for x in var_dummies:\n",
    "    df_processing[x] = np.where(df_processing[x] == True, 1,0)"
   ]
  },
  {
   "cell_type": "markdown",
   "metadata": {},
   "source": [
    "- Padonização dos Dados numéricos"
   ]
  },
  {
   "cell_type": "code",
   "execution_count": 10,
   "metadata": {},
   "outputs": [],
   "source": [
    "var_padronizacao = ['Idade', 'Renda_Anual', 'Anos_no_Emprego', 'Valor', 'Taxa_Juros', 'Comprometimento_Renda', 'Duracao_Historico_Credito']\n",
    "\n",
    "for var in var_padronizacao:\n",
    " df_processing[var] = scaler.fit_transform(df_processing[[var]])"
   ]
  },
  {
   "cell_type": "markdown",
   "metadata": {},
   "source": [
    "<font color = \"red\">Regularizando Variável Target "
   ]
  },
  {
   "cell_type": "code",
   "execution_count": 11,
   "metadata": {},
   "outputs": [
    {
     "data": {
      "text/plain": [
       "Status_Pagamento\n",
       "0    17471\n",
       "1     4262\n",
       "Name: count, dtype: int64"
      ]
     },
     "execution_count": 11,
     "metadata": {},
     "output_type": "execute_result"
    }
   ],
   "source": [
    "df_processing.Status_Pagamento.value_counts()"
   ]
  },
  {
   "cell_type": "code",
   "execution_count": 12,
   "metadata": {},
   "outputs": [
    {
     "data": {
      "text/plain": [
       "Text(0.5, 1.0, 'Contagem das Classes\\n')"
      ]
     },
     "execution_count": 12,
     "metadata": {},
     "output_type": "execute_result"
    },
    {
     "data": {
      "image/png": "[encoded data removed]",
      "text/plain": [
       "<Figure size 640x480 with 1 Axes>"
      ]
     },
     "metadata": {},
     "output_type": "display_data"
    }
   ],
   "source": [
    "sns.countplot(x='Status_Pagamento', data=df_processing, palette= \"OrRd\")\n",
    "plt.box(False)\n",
    "plt.title(\"Contagem das Classes\\n\")"
   ]
  },
  {
   "cell_type": "code",
   "execution_count": 13,
   "metadata": {},
   "outputs": [
    {
     "data": {
      "image/png": "[encoded data removed]",
      "text/plain": [
       "<Figure size 300x500 with 1 Axes>"
      ]
     },
     "metadata": {},
     "output_type": "display_data"
    }
   ],
   "source": [
    "plt.figure(figsize=(3, 5))  # Ajuste o tamanho horizontal para acomodar todos os gráficos em uma linha\n",
    "\n",
    "sns.countplot(x='Status_Pagamento', data=df_processing, palette=\"OrRd\")\n",
    "\n",
    "# Remover borda ao redor do gráfico\n",
    "plt.box(False)\n",
    "\n",
    "# Ajustando o título com uma quebra de linha\n",
    "plt.title(\"Contagem das Classes\\n\", color='grey', fontsize=14)\n",
    "\n",
    "# Ajustando a cor das bordas esquerda e inferior para cinza\n",
    "plt.gca().spines['left'].set_color('grey')\n",
    "plt.gca().spines['bottom'].set_color('grey')\n",
    "\n",
    "# Ajustar a cor dos ticks para cinza\n",
    "plt.tick_params(axis='x', colors='grey')\n",
    "plt.tick_params(axis='y', colors='grey')\n",
    "\n",
    "# Exibe o gráfico\n",
    "plt.show()"
   ]
  },
  {
   "cell_type": "markdown",
   "metadata": {},
   "source": [
    "Podemos notar que a variável \"0\", que condiz à pessoas adimplentes, possui muitas amostras a mais. Isso prejudica o modelo, pois aprenderá muito mais sobre identificar a variável 0 do que a 1.\n",
    "- Para isso, utilizarei o SMOTE, a fim de criar dados sintéticos com base nos originais"
   ]
  },
  {
   "cell_type": "code",
   "execution_count": 14,
   "metadata": {},
   "outputs": [],
   "source": [
    "# Separa X e y\n",
    "target = df_processing['Status_Pagamento']\n",
    "features = df_processing.drop(columns=['Status_Pagamento'])\n",
    "\n",
    "seed = 100\n",
    "\n",
    "# Cria o balanceador SMOTE\n",
    "smote_bal = SMOTE(random_state = seed)\n",
    "\n",
    "# Aplica o balanceador\n",
    "X, y = smote_bal.fit_resample(features, target)"
   ]
  },
  {
   "cell_type": "code",
   "execution_count": 15,
   "metadata": {},
   "outputs": [
    {
     "data": {
      "text/plain": [
       "(34942, 17)"
      ]
     },
     "execution_count": 15,
     "metadata": {},
     "output_type": "execute_result"
    }
   ],
   "source": [
    "X.shape"
   ]
  },
  {
   "cell_type": "code",
   "execution_count": 16,
   "metadata": {},
   "outputs": [
    {
     "data": {
      "text/plain": [
       "(34942,)"
      ]
     },
     "execution_count": 16,
     "metadata": {},
     "output_type": "execute_result"
    }
   ],
   "source": [
    "y.shape"
   ]
  },
  {
   "cell_type": "code",
   "execution_count": 17,
   "metadata": {},
   "outputs": [
    {
     "data": {
      "text/plain": [
       "Status_Pagamento\n",
       "0    17471\n",
       "1    17471\n",
       "Name: count, dtype: int64"
      ]
     },
     "execution_count": 17,
     "metadata": {},
     "output_type": "execute_result"
    }
   ],
   "source": [
    "y.value_counts()"
   ]
  },
  {
   "cell_type": "code",
   "execution_count": 20,
   "metadata": {},
   "outputs": [
    {
     "data": {
      "image/png": "[encoded data removed]",
      "text/plain": [
       "<Figure size 300x500 with 1 Axes>"
      ]
     },
     "metadata": {},
     "output_type": "display_data"
    }
   ],
   "source": [
    "plt.figure(figsize=(3, 5))  # Ajuste o tamanho horizontal para acomodar todos os gráficos em uma linha\n",
    "sns.countplot(x=y, palette='OrRd')\n",
    "\n",
    "# Configurações estéticas\n",
    "# plt.title('Distribuição de Valores da Variável y', fontsize=16)\n",
    "# plt.xlabel('Valores de y', fontsize=14)\n",
    "# plt.ylabel('Contagem', fontsize=14)\n",
    "# plt.xticks(fontsize=12, color='grey')\n",
    "# plt.yticks(fontsize=12, color='grey')\n",
    "\n",
    "plt.title(\"Contagem das Classes pós Balanceamento\\n\", color='grey', fontsize=14)\n",
    "\n",
    "# Ajustando a cor das bordas esquerda e inferior para cinza\n",
    "plt.gca().spines['left'].set_color('grey')\n",
    "plt.gca().spines['bottom'].set_color('grey')\n",
    "\n",
    "# Ajustar a cor dos ticks para cinza\n",
    "plt.tick_params(axis='x', colors='grey')\n",
    "plt.tick_params(axis='y', colors='grey')\n",
    "# Remover as linhas de cima e direita do gráfico para deixá-lo mais limpo\n",
    "sns.despine()\n",
    "\n",
    "plt.show()"
   ]
  },
  {
   "cell_type": "code",
   "execution_count": 42,
   "metadata": {},
   "outputs": [
    {
     "data": {
      "text/html": [
       "<div>\n",
       "<style scoped>\n",
       "    .dataframe tbody tr th:only-of-type {\n",
       "        vertical-align: middle;\n",
       "    }\n",
       "\n",
       "    .dataframe tbody tr th {\n",
       "        vertical-align: top;\n",
       "    }\n",
       "\n",
       "    .dataframe thead th {\n",
       "        text-align: right;\n",
       "    }\n",
       "</style>\n",
       "<table border=\"1\" class=\"dataframe\">\n",
       "  <thead>\n",
       "    <tr style=\"text-align: right;\">\n",
       "      <th></th>\n",
       "      <th>Idade</th>\n",
       "      <th>Renda_Anual</th>\n",
       "      <th>Anos_no_Emprego</th>\n",
       "      <th>Grau_Emprestimo</th>\n",
       "      <th>Valor</th>\n",
       "      <th>Taxa_Juros</th>\n",
       "      <th>Comprometimento_Renda</th>\n",
       "      <th>Inadimplencia_Historica</th>\n",
       "      <th>Duracao_Historico_Credito</th>\n",
       "      <th>Tipo_Moradia_Hipoteca</th>\n",
       "      <th>Tipo_Moradia_Outro</th>\n",
       "      <th>Tipo_Moradia_Próprio</th>\n",
       "      <th>Motivo_Emprestimo_Educação</th>\n",
       "      <th>Motivo_Emprestimo_Empreendimento</th>\n",
       "      <th>Motivo_Emprestimo_Médico</th>\n",
       "      <th>Motivo_Emprestimo_Pessoal</th>\n",
       "      <th>Motivo_Emprestimo_Reformas Domésticas</th>\n",
       "    </tr>\n",
       "  </thead>\n",
       "  <tbody>\n",
       "    <tr>\n",
       "      <th>24244</th>\n",
       "      <td>-0.829851</td>\n",
       "      <td>-0.71475</td>\n",
       "      <td>-0.423843</td>\n",
       "      <td>3</td>\n",
       "      <td>-0.71035</td>\n",
       "      <td>1.439799</td>\n",
       "      <td>-0.351445</td>\n",
       "      <td>1</td>\n",
       "      <td>-0.288521</td>\n",
       "      <td>0</td>\n",
       "      <td>0</td>\n",
       "      <td>0</td>\n",
       "      <td>0</td>\n",
       "      <td>0</td>\n",
       "      <td>0</td>\n",
       "      <td>0</td>\n",
       "      <td>0</td>\n",
       "    </tr>\n",
       "  </tbody>\n",
       "</table>\n",
       "</div>"
      ],
      "text/plain": [
       "          Idade  Renda_Anual  Anos_no_Emprego  Grau_Emprestimo    Valor  \\\n",
       "24244 -0.829851     -0.71475        -0.423843                3 -0.71035   \n",
       "\n",
       "       Taxa_Juros  Comprometimento_Renda  Inadimplencia_Historica  \\\n",
       "24244    1.439799              -0.351445                        1   \n",
       "\n",
       "       Duracao_Historico_Credito  Tipo_Moradia_Hipoteca  Tipo_Moradia_Outro  \\\n",
       "24244                  -0.288521                      0                   0   \n",
       "\n",
       "       Tipo_Moradia_Próprio  Motivo_Emprestimo_Educação  \\\n",
       "24244                     0                           0   \n",
       "\n",
       "       Motivo_Emprestimo_Empreendimento  Motivo_Emprestimo_Médico  \\\n",
       "24244                                 0                         0   \n",
       "\n",
       "       Motivo_Emprestimo_Pessoal  Motivo_Emprestimo_Reformas Domésticas  \n",
       "24244                          0                                      0  "
      ]
     },
     "execution_count": 42,
     "metadata": {},
     "output_type": "execute_result"
    }
   ],
   "source": [
    "X.sample()"
   ]
  },
  {
   "cell_type": "code",
   "execution_count": 43,
   "metadata": {},
   "outputs": [
    {
     "name": "stdout",
     "output_type": "stream",
     "text": [
      "0        0\n",
      "1        1\n",
      "2        1\n",
      "3        1\n",
      "4        0\n",
      "        ..\n",
      "34937    1\n",
      "34938    1\n",
      "34939    1\n",
      "34940    1\n",
      "34941    1\n",
      "Name: Status_Pagamento, Length: 34942, dtype: int32\n"
     ]
    }
   ],
   "source": [
    "print(y)"
   ]
  },
  {
   "cell_type": "markdown",
   "metadata": {},
   "source": [
    "<font color = \"red\">Importância de Cada Variável com Random Forest"
   ]
  },
  {
   "cell_type": "code",
   "execution_count": 44,
   "metadata": {},
   "outputs": [],
   "source": [
    "clf_importancia_var = RandomForestClassifier(n_estimators = 10, max_depth=7)"
   ]
  },
  {
   "cell_type": "code",
   "execution_count": 45,
   "metadata": {},
   "outputs": [],
   "source": [
    "clf_importancia_var =  clf_importancia_var.fit(X, y)"
   ]
  },
  {
   "cell_type": "code",
   "execution_count": 46,
   "metadata": {},
   "outputs": [
    {
     "data": {
      "text/plain": [
       "0.8433403926506783"
      ]
     },
     "execution_count": 46,
     "metadata": {},
     "output_type": "execute_result"
    }
   ],
   "source": [
    "clf_importancia_var.score(X, y)"
   ]
  },
  {
   "cell_type": "code",
   "execution_count": 47,
   "metadata": {},
   "outputs": [],
   "source": [
    "importancia_Var = clf_importancia_var.feature_importances_"
   ]
  },
  {
   "cell_type": "code",
   "execution_count": 48,
   "metadata": {},
   "outputs": [
    {
     "data": {
      "text/plain": [
       "array([1.03652747e-02, 1.46689063e-01, 3.30312774e-02, 2.07776809e-01,\n",
       "       3.78676615e-02, 1.56403926e-01, 2.34640941e-01, 1.59971176e-02,\n",
       "       1.42218322e-02, 4.99577391e-02, 1.67872437e-04, 3.99507683e-02,\n",
       "       1.61563043e-02, 2.06603318e-02, 3.40816625e-03, 5.16083334e-03,\n",
       "       7.54408118e-03])"
      ]
     },
     "execution_count": 48,
     "metadata": {},
     "output_type": "execute_result"
    }
   ],
   "source": [
    "importancia_Var"
   ]
  },
  {
   "cell_type": "code",
   "execution_count": 49,
   "metadata": {},
   "outputs": [
    {
     "data": {
      "text/plain": [
       "Index(['Idade', 'Renda_Anual', 'Anos_no_Emprego', 'Grau_Emprestimo', 'Valor',\n",
       "       'Taxa_Juros', 'Comprometimento_Renda', 'Inadimplencia_Historica',\n",
       "       'Duracao_Historico_Credito', 'Tipo_Moradia_Hipoteca',\n",
       "       'Tipo_Moradia_Outro', 'Tipo_Moradia_Próprio',\n",
       "       'Motivo_Emprestimo_Educação', 'Motivo_Emprestimo_Empreendimento',\n",
       "       'Motivo_Emprestimo_Médico', 'Motivo_Emprestimo_Pessoal',\n",
       "       'Motivo_Emprestimo_Reformas Domésticas'],\n",
       "      dtype='object')"
      ]
     },
     "execution_count": 49,
     "metadata": {},
     "output_type": "execute_result"
    }
   ],
   "source": [
    "X.columns"
   ]
  },
  {
   "cell_type": "code",
   "execution_count": 54,
   "metadata": {},
   "outputs": [
    {
     "data": {
      "image/png": "[encoded data removed]",
      "text/plain": [
       "<Figure size 1000x800 with 1 Axes>"
      ]
     },
     "metadata": {},
     "output_type": "display_data"
    }
   ],
   "source": [
    "# Plotar a importância das variáveis\n",
    "plt.figure(figsize=(10, 8))\n",
    "sns.barplot(x='Importancia', y='Variavel', data=df_importancia, palette='OrRd_r')  # Usando a paleta invertida\n",
    "plt.title('Importância das Variáveis - Random Forest', fontsize=16)\n",
    "plt.xlabel('Importância', fontsize=12)\n",
    "plt.ylabel('Variável', fontsize=12)\n",
    "\n",
    "# Remover bordas superior e direita\n",
    "sns.despine()\n",
    "\n",
    "# Ajustar a cor das bordas esquerda e inferior para cinza\n",
    "plt.gca().spines['left'].set_color('grey')\n",
    "plt.gca().spines['bottom'].set_color('grey')\n",
    "\n",
    "# Ajustar a cor dos ticks\n",
    "plt.tick_params(axis='x', colors='grey')  # Ticks do eixo x\n",
    "plt.tick_params(axis='y', colors='grey')  # Ticks do eixo y\n",
    "\n",
    "# Exibe o gráfico\n",
    "plt.show()"
   ]
  },
  {
   "cell_type": "markdown",
   "metadata": {},
   "source": [
    "### <font color = \"blue\"> Conclusões:\n",
    "\n",
    "- Variável idade já não se mostrava relevante na corr (multicolinearidade com Duração Histórico), agora ainda menos. Vou excluir as duas.\n",
    "- As demais irei manter, mesmo que vaolor e comprometimento renda possuam 0.64 de correlação, são variáveis relevantes para o problema de negócio"
   ]
  },
  {
   "cell_type": "code",
   "execution_count": 145,
   "metadata": {},
   "outputs": [],
   "source": [
    "X = X.drop(columns=['Idade', 'Duracao_Historico_Credito'])\n"
   ]
  },
  {
   "cell_type": "markdown",
   "metadata": {},
   "source": [
    "<font color = \"red\">Salvando variáveis para modelagem preditiva"
   ]
  },
  {
   "cell_type": "code",
   "execution_count": 148,
   "metadata": {},
   "outputs": [],
   "source": [
    "X.to_csv('../data/X_pre_processado_5.csv', sep =',', index = False, encoding = 'utf-8')\n",
    "y.to_csv('../data/y_pre_processado_5.csv', sep =',', index = False, encoding = 'utf-8')"
   ]
  },
  {
   "cell_type": "code",
   "execution_count": null,
   "metadata": {},
   "outputs": [],
   "source": []
  }
 ],
 "metadata": {
  "kernelspec": {
   "display_name": "base",
   "language": "python",
   "name": "python3"
  },
  "language_info": {
   "codemirror_mode": {
    "name": "ipython",
    "version": 3
   },
   "file_extension": ".py",
   "mimetype": "text/x-python",
   "name": "python",
   "nbconvert_exporter": "python",
   "pygments_lexer": "ipython3",
   "version": "3.9.13"
  }
 },
 "nbformat": 4,
 "nbformat_minor": 2
}
