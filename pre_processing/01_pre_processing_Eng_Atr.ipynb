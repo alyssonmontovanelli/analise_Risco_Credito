{
 "cells": [
  {
   "cell_type": "markdown",
   "metadata": {},
   "source": [
    "# <font color = \"red\">Classificação de Risco de Crédito</font>\n",
    "\n",
    "## PRÉ PROCESSAMENTO DOS DADOS E ENGENHARIA DE ATRIBUTOS \n",
    "\n",
    "<font color = \"red\">Problema de Negócio:</font> A partir de dados históricos, irei verificar os padrões que levaram os clientes de uma instituição financeira, a adentrarem, ou não, na situação de inadimplência, para posteriormente criar um \n",
    "\n",
    "<font color = \"red\">Meta de Acurácia Final:</font> ACC mínimo de 88%\n",
    "\n",
    "<font color = \"blue\">Foco deste notebook será preparar os dados para a etapa de modelagem, aplicando codifica~ção às variáveis categóricas, escalonamento às numéricas e balanceamento de classe, se for necessário. Após, analisarei a importância das variáveis, juntamente com o relatório da análise exploratória, com intuito de remover variáveis irrelevantes e correlacionadas."
   ]
  },
  {
   "cell_type": "code",
   "execution_count": 54,
   "metadata": {},
   "outputs": [],
   "source": [
    "# Imports \n",
    "import sys\n",
    "import os\n",
    "import pandas as pd\n",
    "import numpy as np\n",
    "import matplotlib.pyplot as plt\n",
    "import seaborn as sns\n",
    "\n",
    "from sklearn.preprocessing import StandardScaler\n",
    "from sklearn.preprocessing import LabelEncoder\n",
    "\n",
    "# Regularização de classe\n",
    "from imblearn.over_sampling import SMOTE\n",
    "\n",
    "\n",
    "# Feature Importance\n",
    "from sklearn.ensemble import RandomForestClassifier\n",
    "\n",
    "import warnings\n",
    "warnings.filterwarnings('ignore')"
   ]
  },
  {
   "cell_type": "code",
   "execution_count": 34,
   "metadata": {},
   "outputs": [],
   "source": [
    "# Importando os dados \n",
    "df = pd.read_csv(\"C:/Projetos Pessoais/DataScience/analise_Risco_Credito/data/df_para_pre_processamento_4.csv\")"
   ]
  },
  {
   "cell_type": "markdown",
   "metadata": {},
   "source": [
    "<font color = \"red\">Codificação das Variáveis"
   ]
  },
  {
   "cell_type": "code",
   "execution_count": 35,
   "metadata": {},
   "outputs": [],
   "source": [
    "# Objeto Encoder e Standard\n",
    "lb = LabelEncoder()\n",
    "scaler = StandardScaler()"
   ]
  },
  {
   "cell_type": "code",
   "execution_count": 36,
   "metadata": {},
   "outputs": [],
   "source": [
    "df_processing = df.copy()"
   ]
  },
  {
   "cell_type": "markdown",
   "metadata": {},
   "source": [
    "- Label Encoder para variáveis"
   ]
  },
  {
   "cell_type": "code",
   "execution_count": 37,
   "metadata": {},
   "outputs": [
    {
     "data": {
      "text/html": [
       "<div>\n",
       "<style scoped>\n",
       "    .dataframe tbody tr th:only-of-type {\n",
       "        vertical-align: middle;\n",
       "    }\n",
       "\n",
       "    .dataframe tbody tr th {\n",
       "        vertical-align: top;\n",
       "    }\n",
       "\n",
       "    .dataframe thead th {\n",
       "        text-align: right;\n",
       "    }\n",
       "</style>\n",
       "<table border=\"1\" class=\"dataframe\">\n",
       "  <thead>\n",
       "    <tr style=\"text-align: right;\">\n",
       "      <th></th>\n",
       "      <th>Idade</th>\n",
       "      <th>Renda_Anual</th>\n",
       "      <th>Tipo_Moradia</th>\n",
       "      <th>Anos_no_Emprego</th>\n",
       "      <th>Motivo_Emprestimo</th>\n",
       "      <th>Grau_Emprestimo</th>\n",
       "      <th>Valor</th>\n",
       "      <th>Taxa_Juros</th>\n",
       "      <th>Status_Pagamento</th>\n",
       "      <th>Comprometimento_Renda</th>\n",
       "      <th>Inadimplencia_Historica</th>\n",
       "      <th>Duracao_Historico_Credito</th>\n",
       "    </tr>\n",
       "  </thead>\n",
       "  <tbody>\n",
       "    <tr>\n",
       "      <th>20654</th>\n",
       "      <td>29.0</td>\n",
       "      <td>120000.0</td>\n",
       "      <td>Hipoteca</td>\n",
       "      <td>8.0</td>\n",
       "      <td>Empreendimento</td>\n",
       "      <td>0</td>\n",
       "      <td>5000.0</td>\n",
       "      <td>7.43</td>\n",
       "      <td>0</td>\n",
       "      <td>0.04</td>\n",
       "      <td>0</td>\n",
       "      <td>6.0</td>\n",
       "    </tr>\n",
       "  </tbody>\n",
       "</table>\n",
       "</div>"
      ],
      "text/plain": [
       "       Idade  Renda_Anual Tipo_Moradia  Anos_no_Emprego Motivo_Emprestimo  \\\n",
       "20654   29.0     120000.0     Hipoteca              8.0    Empreendimento   \n",
       "\n",
       "       Grau_Emprestimo   Valor  Taxa_Juros  Status_Pagamento  \\\n",
       "20654                0  5000.0        7.43                 0   \n",
       "\n",
       "       Comprometimento_Renda  Inadimplencia_Historica  \\\n",
       "20654                   0.04                        0   \n",
       "\n",
       "       Duracao_Historico_Credito  \n",
       "20654                        6.0  "
      ]
     },
     "execution_count": 37,
     "metadata": {},
     "output_type": "execute_result"
    }
   ],
   "source": [
    "# Encoder para Varíavel Target\n",
    "df_processing['Status_Pagamento'] = lb.fit_transform(df_processing['Status_Pagamento'])\n",
    "df_processing['Inadimplencia_Historica'] = lb.fit_transform(df_processing['Inadimplencia_Historica'])\n",
    "\n",
    "# Encoder em Grau emprestimo, pois há hierarquia dentro da variável - A é melhor q B\n",
    "df_processing['Grau_Emprestimo'] = lb.fit_transform(df_processing['Grau_Emprestimo'])\n",
    "df_processing.sample()\n"
   ]
  },
  {
   "cell_type": "markdown",
   "metadata": {},
   "source": [
    "- Get Dummies para variáveis sem hierárquias e não binárias"
   ]
  },
  {
   "cell_type": "code",
   "execution_count": 38,
   "metadata": {},
   "outputs": [],
   "source": [
    "df_processing = pd.get_dummies(df_processing, columns=['Tipo_Moradia', 'Motivo_Emprestimo'], drop_first=True)"
   ]
  },
  {
   "cell_type": "code",
   "execution_count": 39,
   "metadata": {},
   "outputs": [],
   "source": [
    "# Os dados ficaram no formato True/False - transformar em 0 e 1\n",
    "var_dummies = ['Tipo_Moradia_Hipoteca',\t'Tipo_Moradia_Outro',\t'Tipo_Moradia_Próprio',\n",
    "               'Motivo_Emprestimo_Educação', 'Motivo_Emprestimo_Empreendimento', 'Motivo_Emprestimo_Médico',\n",
    "            \t'Motivo_Emprestimo_Pessoal', 'Motivo_Emprestimo_Reformas Domésticas']\n",
    "for x in var_dummies:\n",
    "    df_processing[x] = np.where(df_processing[x] == True, 1,0)"
   ]
  },
  {
   "cell_type": "markdown",
   "metadata": {},
   "source": [
    "- Padonização dos Dados numéricos"
   ]
  },
  {
   "cell_type": "code",
   "execution_count": 45,
   "metadata": {},
   "outputs": [],
   "source": [
    "var_padronizacao = ['Idade', 'Renda_Anual', 'Anos_no_Emprego', 'Valor', 'Taxa_Juros', 'Comprometimento_Renda', 'Duracao_Historico_Credito']\n",
    "\n",
    "for var in var_padronizacao:\n",
    " df_processing[var] = scaler.fit_transform(df_processing[[var]])"
   ]
  },
  {
   "cell_type": "markdown",
   "metadata": {},
   "source": [
    "<font color = \"red\">Regularizando Variável Target "
   ]
  },
  {
   "cell_type": "code",
   "execution_count": 53,
   "metadata": {},
   "outputs": [
    {
     "data": {
      "text/plain": [
       "Status_Pagamento\n",
       "0    17471\n",
       "1     4262\n",
       "Name: count, dtype: int64"
      ]
     },
     "execution_count": 53,
     "metadata": {},
     "output_type": "execute_result"
    }
   ],
   "source": [
    "df_processing.Status_Pagamento.value_counts()"
   ]
  },
  {
   "cell_type": "code",
   "execution_count": 52,
   "metadata": {},
   "outputs": [
    {
     "data": {
      "text/plain": [
       "Text(0.5, 1.0, 'Contagem das Classes\\n')"
      ]
     },
     "execution_count": 52,
     "metadata": {},
     "output_type": "execute_result"
    },
    {
     "data": {
      "image/png": "[encoded data removed]",
      "text/plain": [
       "<Figure size 640x480 with 1 Axes>"
      ]
     },
     "metadata": {},
     "output_type": "display_data"
    }
   ],
   "source": [
    "sns.countplot(x='Status_Pagamento', data=df_processing, palette= \"OrRd\")\n",
    "plt.box(False)\n",
    "plt.title(\"Contagem das Classes\\n\")"
   ]
  },
  {
   "cell_type": "markdown",
   "metadata": {},
   "source": [
    "Podemos notar que a variável \"0\", que condiz à pessoas adimplentes, possui muitas amostras a mais. Isso prejudica o modelo, pois aprenderá muito mais sobre identificar a variável 0 do que a 1.\n",
    "- Para isso, utilizarei o SMOTE, a fim de criar dados sintéticos com base nos originais"
   ]
  },
  {
   "cell_type": "code",
   "execution_count": 60,
   "metadata": {},
   "outputs": [],
   "source": [
    "# Separa X e y\n",
    "target = df_processing['Status_Pagamento']\n",
    "features = df_processing.drop(columns=['Status_Pagamento'])\n",
    "\n",
    "seed = 100\n",
    "\n",
    "# Cria o balanceador SMOTE\n",
    "smote_bal = SMOTE(random_state = seed)\n",
    "\n",
    "# Aplica o balanceador\n",
    "X, y = smote_bal.fit_resample(features, target)"
   ]
  },
  {
   "cell_type": "code",
   "execution_count": 61,
   "metadata": {},
   "outputs": [
    {
     "data": {
      "text/plain": [
       "(34942, 17)"
      ]
     },
     "execution_count": 61,
     "metadata": {},
     "output_type": "execute_result"
    }
   ],
   "source": [
    "X.shape"
   ]
  },
  {
   "cell_type": "code",
   "execution_count": 62,
   "metadata": {},
   "outputs": [
    {
     "data": {
      "text/plain": [
       "(34942,)"
      ]
     },
     "execution_count": 62,
     "metadata": {},
     "output_type": "execute_result"
    }
   ],
   "source": [
    "y.shape"
   ]
  },
  {
   "cell_type": "code",
   "execution_count": 63,
   "metadata": {},
   "outputs": [
    {
     "data": {
      "text/plain": [
       "Status_Pagamento\n",
       "0    17471\n",
       "1    17471\n",
       "Name: count, dtype: int64"
      ]
     },
     "execution_count": 63,
     "metadata": {},
     "output_type": "execute_result"
    }
   ],
   "source": [
    "y.value_counts()"
   ]
  },
  {
   "cell_type": "code",
   "execution_count": 66,
   "metadata": {},
   "outputs": [
    {
     "data": {
      "text/html": [
       "<div>\n",
       "<style scoped>\n",
       "    .dataframe tbody tr th:only-of-type {\n",
       "        vertical-align: middle;\n",
       "    }\n",
       "\n",
       "    .dataframe tbody tr th {\n",
       "        vertical-align: top;\n",
       "    }\n",
       "\n",
       "    .dataframe thead th {\n",
       "        text-align: right;\n",
       "    }\n",
       "</style>\n",
       "<table border=\"1\" class=\"dataframe\">\n",
       "  <thead>\n",
       "    <tr style=\"text-align: right;\">\n",
       "      <th></th>\n",
       "      <th>Idade</th>\n",
       "      <th>Renda_Anual</th>\n",
       "      <th>Anos_no_Emprego</th>\n",
       "      <th>Grau_Emprestimo</th>\n",
       "      <th>Valor</th>\n",
       "      <th>Taxa_Juros</th>\n",
       "      <th>Comprometimento_Renda</th>\n",
       "      <th>Inadimplencia_Historica</th>\n",
       "      <th>Duracao_Historico_Credito</th>\n",
       "      <th>Tipo_Moradia_Hipoteca</th>\n",
       "      <th>Tipo_Moradia_Outro</th>\n",
       "      <th>Tipo_Moradia_Próprio</th>\n",
       "      <th>Motivo_Emprestimo_Educação</th>\n",
       "      <th>Motivo_Emprestimo_Empreendimento</th>\n",
       "      <th>Motivo_Emprestimo_Médico</th>\n",
       "      <th>Motivo_Emprestimo_Pessoal</th>\n",
       "      <th>Motivo_Emprestimo_Reformas Domésticas</th>\n",
       "    </tr>\n",
       "  </thead>\n",
       "  <tbody>\n",
       "    <tr>\n",
       "      <th>33929</th>\n",
       "      <td>-0.359545</td>\n",
       "      <td>-0.806528</td>\n",
       "      <td>0.674357</td>\n",
       "      <td>1</td>\n",
       "      <td>-0.686756</td>\n",
       "      <td>0.2121</td>\n",
       "      <td>-0.198003</td>\n",
       "      <td>0</td>\n",
       "      <td>-0.822569</td>\n",
       "      <td>0</td>\n",
       "      <td>0</td>\n",
       "      <td>0</td>\n",
       "      <td>1</td>\n",
       "      <td>0</td>\n",
       "      <td>0</td>\n",
       "      <td>0</td>\n",
       "      <td>0</td>\n",
       "    </tr>\n",
       "  </tbody>\n",
       "</table>\n",
       "</div>"
      ],
      "text/plain": [
       "          Idade  Renda_Anual  Anos_no_Emprego  Grau_Emprestimo     Valor  \\\n",
       "33929 -0.359545    -0.806528         0.674357                1 -0.686756   \n",
       "\n",
       "       Taxa_Juros  Comprometimento_Renda  Inadimplencia_Historica  \\\n",
       "33929      0.2121              -0.198003                        0   \n",
       "\n",
       "       Duracao_Historico_Credito  Tipo_Moradia_Hipoteca  Tipo_Moradia_Outro  \\\n",
       "33929                  -0.822569                      0                   0   \n",
       "\n",
       "       Tipo_Moradia_Próprio  Motivo_Emprestimo_Educação  \\\n",
       "33929                     0                           1   \n",
       "\n",
       "       Motivo_Emprestimo_Empreendimento  Motivo_Emprestimo_Médico  \\\n",
       "33929                                 0                         0   \n",
       "\n",
       "       Motivo_Emprestimo_Pessoal  Motivo_Emprestimo_Reformas Domésticas  \n",
       "33929                          0                                      0  "
      ]
     },
     "execution_count": 66,
     "metadata": {},
     "output_type": "execute_result"
    }
   ],
   "source": [
    "X.sample()"
   ]
  },
  {
   "cell_type": "code",
   "execution_count": 68,
   "metadata": {},
   "outputs": [
    {
     "name": "stdout",
     "output_type": "stream",
     "text": [
      "0        0\n",
      "1        1\n",
      "2        1\n",
      "3        1\n",
      "4        0\n",
      "        ..\n",
      "34937    1\n",
      "34938    1\n",
      "34939    1\n",
      "34940    1\n",
      "34941    1\n",
      "Name: Status_Pagamento, Length: 34942, dtype: int32\n"
     ]
    }
   ],
   "source": [
    "print(y)"
   ]
  },
  {
   "cell_type": "markdown",
   "metadata": {},
   "source": [
    "<font color = \"red\">Importância de Cada Variável com Random Forest"
   ]
  },
  {
   "cell_type": "code",
   "execution_count": 135,
   "metadata": {},
   "outputs": [],
   "source": [
    "clf_importancia_var = RandomForestClassifier(n_estimators = 10, max_depth=7)"
   ]
  },
  {
   "cell_type": "code",
   "execution_count": 136,
   "metadata": {},
   "outputs": [],
   "source": [
    "clf_importancia_var =  clf_importancia_var.fit(X, y)"
   ]
  },
  {
   "cell_type": "code",
   "execution_count": 137,
   "metadata": {},
   "outputs": [
    {
     "data": {
      "text/plain": [
       "0.8425963024440501"
      ]
     },
     "execution_count": 137,
     "metadata": {},
     "output_type": "execute_result"
    }
   ],
   "source": [
    "clf_importancia_var.score(X, y)"
   ]
  },
  {
   "cell_type": "code",
   "execution_count": 138,
   "metadata": {},
   "outputs": [],
   "source": [
    "importancia_Var = clf_importancia_var.feature_importances_"
   ]
  },
  {
   "cell_type": "code",
   "execution_count": 139,
   "metadata": {},
   "outputs": [
    {
     "data": {
      "text/plain": [
       "array([7.14402841e-03, 1.48959303e-01, 3.12236749e-02, 1.07754616e-01,\n",
       "       2.94578128e-02, 2.50288577e-01, 2.35695163e-01, 1.91281240e-02,\n",
       "       4.82184734e-03, 6.38871139e-02, 5.76208260e-05, 3.85780865e-02,\n",
       "       1.64970524e-02, 2.75622487e-02, 5.14074258e-03, 7.13619141e-03,\n",
       "       6.66779626e-03])"
      ]
     },
     "execution_count": 139,
     "metadata": {},
     "output_type": "execute_result"
    }
   ],
   "source": [
    "importancia_Var"
   ]
  },
  {
   "cell_type": "code",
   "execution_count": 140,
   "metadata": {},
   "outputs": [
    {
     "data": {
      "text/plain": [
       "Index(['Idade', 'Renda_Anual', 'Anos_no_Emprego', 'Grau_Emprestimo', 'Valor',\n",
       "       'Taxa_Juros', 'Comprometimento_Renda', 'Inadimplencia_Historica',\n",
       "       'Duracao_Historico_Credito', 'Tipo_Moradia_Hipoteca',\n",
       "       'Tipo_Moradia_Outro', 'Tipo_Moradia_Próprio',\n",
       "       'Motivo_Emprestimo_Educação', 'Motivo_Emprestimo_Empreendimento',\n",
       "       'Motivo_Emprestimo_Médico', 'Motivo_Emprestimo_Pessoal',\n",
       "       'Motivo_Emprestimo_Reformas Domésticas'],\n",
       "      dtype='object')"
      ]
     },
     "execution_count": 140,
     "metadata": {},
     "output_type": "execute_result"
    }
   ],
   "source": [
    "X.columns"
   ]
  },
  {
   "cell_type": "code",
   "execution_count": 141,
   "metadata": {},
   "outputs": [
    {
     "data": {
      "image/png": "[encoded data removed]",
      "text/plain": [
       "<Figure size 1000x800 with 1 Axes>"
      ]
     },
     "metadata": {},
     "output_type": "display_data"
    }
   ],
   "source": [
    "df_importancia = pd.DataFrame({\n",
    "    'Variavel': X.columns,\n",
    "    'Importancia': importancia_Var\n",
    "})\n",
    "\n",
    "# Ordenar as variáveis por importância\n",
    "df_importancia = df_importancia.sort_values(by='Importancia', ascending=False)\n",
    "\n",
    "# Plotar a importância das variáveis\n",
    "plt.figure(figsize=(10, 8))\n",
    "sns.barplot(x='Importancia', y='Variavel', data=df_importancia, palette='OrRd')\n",
    "plt.title('Importância das Variáveis no Modelo', fontsize=16)\n",
    "plt.xlabel('Importância', fontsize=12)\n",
    "plt.ylabel('Variável', fontsize=12)\n",
    "plt.show()"
   ]
  },
  {
   "cell_type": "markdown",
   "metadata": {},
   "source": [
    "### <font color = \"blue\"> Conclusões:\n",
    "\n",
    "- Variável idade já não se mostrava relevante na corr (multicolinearidade com Duração Histórico), agora ainda menos. Vou excluir as duas.\n",
    "- As demais irei manter, mesmo que vaolor e comprometimento renda possuam 0.64 de correlação, são variáveis relevantes para o problema de negócio"
   ]
  },
  {
   "cell_type": "code",
   "execution_count": null,
   "metadata": {},
   "outputs": [],
   "source": []
  },
  {
   "cell_type": "code",
   "execution_count": null,
   "metadata": {},
   "outputs": [],
   "source": []
  },
  {
   "cell_type": "markdown",
   "metadata": {},
   "source": []
  }
 ],
 "metadata": {
  "kernelspec": {
   "display_name": "base",
   "language": "python",
   "name": "python3"
  },
  "language_info": {
   "codemirror_mode": {
    "name": "ipython",
    "version": 3
   },
   "file_extension": ".py",
   "mimetype": "text/x-python",
   "name": "python",
   "nbconvert_exporter": "python",
   "pygments_lexer": "ipython3",
   "version": "3.9.13"
  }
 },
 "nbformat": 4,
 "nbformat_minor": 2
}
