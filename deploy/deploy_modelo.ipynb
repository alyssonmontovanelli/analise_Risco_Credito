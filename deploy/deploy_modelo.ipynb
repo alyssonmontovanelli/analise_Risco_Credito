{
 "cells": [
  {
   "cell_type": "code",
   "execution_count": 114,
   "metadata": {},
   "outputs": [],
   "source": [
    "import pandas as pd\n",
    "import numpy as np\n",
    "import matplotlib.pyplot as plt\n",
    "import seaborn as sns\n",
    "\n",
    "import joblib\n",
    "\n",
    "\n",
    "from sklearn.preprocessing import StandardScaler\n",
    "from sklearn.preprocessing import LabelEncoder\n",
    "\n",
    "lb = LabelEncoder()\n",
    "scaler = StandardScaler()"
   ]
  },
  {
   "cell_type": "code",
   "execution_count": 28,
   "metadata": {},
   "outputs": [],
   "source": [
    "# Novos dados\n",
    "novos_dados = {'Renda_Anual':\t100000,\n",
    "'Tipo_Moradia':\t'Própria',\n",
    "'Anos_no_Emprego': 7.0,\n",
    "'Motivo_Emprestimo':\t'Empreendimento',\n",
    "'Grau_Emprestimo': 'A',\n",
    "'Valor':\t3500,\n",
    "'Taxa_Juros': 8.78,\n",
    "'Comprometimento_Renda':\t0.04,\n",
    "'Inadimplencia_Historica':\t'Sim',\n",
    "}"
   ]
  },
  {
   "cell_type": "code",
   "execution_count": 125,
   "metadata": {},
   "outputs": [
    {
     "name": "stdout",
     "output_type": "stream",
     "text": [
      "   Renda_Anual  Anos_no_Emprego  Grau_Emprestimo     Valor  Taxa_Juros  \\\n",
      "0     4.898979        -0.734847        -1.224745  1.837117    3.404791   \n",
      "\n",
      "   Comprometimento_Renda  Inadimplencia_Historica  Tipo_Moradia_Hipoteca  \\\n",
      "0              -1.959592                 1.414214                      0   \n",
      "\n",
      "   Tipo_Moradia_Outro  Tipo_Moradia_Próprio  Motivo_Emprestimo_Educação  \\\n",
      "0                   0                     1                           0   \n",
      "\n",
      "   Motivo_Emprestimo_Empreendimento  Motivo_Emprestimo_Médico  \\\n",
      "0                                 1                         0   \n",
      "\n",
      "   Motivo_Emprestimo_Pessoal  Motivo_Emprestimo_Reformas Domésticas  \n",
      "0                          0                                      0  \n"
     ]
    }
   ],
   "source": [
    "data_exemplo = pd.DataFrame({\n",
    "    'Renda_Anual': [50000, 60000, 70000],\n",
    "    'Anos_no_Emprego': [5, 10, 15],\n",
    "    'Grau_Emprestimo': [1, 2, 3],\n",
    "    'Valor': [1000, 2000, 3000],\n",
    "    'Taxa_Juros': [5.0, 6.0, 7.0],\n",
    "    'Comprometimento_Renda': [0.1, 0.2, 0.3],\n",
    "    'Inadimplencia_Historica': [0, 1, 0]  # 0 = Não, 1 = Sim\n",
    "})\n",
    "\n",
    "# Ajustar o scaler\n",
    "scaler = StandardScaler()\n",
    "scaler.fit(data_exemplo)\n",
    "\n",
    "def preprocess_new_data(new_data_dict):\n",
    "    # Converter o dicionário para DataFrame\n",
    "    new_data = pd.DataFrame([new_data_dict])\n",
    "    \n",
    "    # Converter os tipos de dados conforme necessário\n",
    "    new_data['Renda_Anual'] = new_data['Renda_Anual'].astype(float)\n",
    "    new_data['Anos_no_Emprego'] = new_data['Anos_no_Emprego'].astype(int)\n",
    "    \n",
    "    # Mapear Grau_Emprestimo de letras para números\n",
    "    new_data['Grau_Emprestimo'] = new_data['Grau_Emprestimo'].map({'A': 1, 'B': 2, 'C': 3})\n",
    "    new_data['Valor'] = new_data['Valor'].astype(float)\n",
    "    new_data['Taxa_Juros'] = new_data['Taxa_Juros'].astype(float)\n",
    "    new_data['Comprometimento_Renda'] = new_data['Comprometimento_Renda'].astype(float)\n",
    "    \n",
    "    # Mapeamento de Inadimplencia_Historica de 'Sim'/'Não' para 1/0\n",
    "    new_data['Inadimplencia_Historica'] = new_data['Inadimplencia_Historica'].map({'Sim': 1, 'Não': 0})\n",
    "\n",
    "    # Criar colunas dummy manualmente para Tipo_Moradia\n",
    "    new_data['Tipo_Moradia_Hipoteca'] = 0\n",
    "    new_data['Tipo_Moradia_Outro'] = 0\n",
    "    new_data['Tipo_Moradia_Próprio'] = 1 if new_data_dict['Tipo_Moradia'] == 'Própria' else 0\n",
    "    \n",
    "    # Criar colunas dummy manualmente para Motivo_Emprestimo\n",
    "    new_data['Motivo_Emprestimo_Educação'] = 1 if new_data_dict['Motivo_Emprestimo'] == 'Educação' else 0\n",
    "    new_data['Motivo_Emprestimo_Empreendimento'] = 1 if new_data_dict['Motivo_Emprestimo'] == 'Empreendimento' else 0\n",
    "    new_data['Motivo_Emprestimo_Médico'] = 1 if new_data_dict['Motivo_Emprestimo'] == 'Médico' else 0\n",
    "    new_data['Motivo_Emprestimo_Pessoal'] = 1 if new_data_dict['Motivo_Emprestimo'] == 'Pessoal' else 0\n",
    "    new_data['Motivo_Emprestimo_Reformas Domésticas'] = 1 if new_data_dict['Motivo_Emprestimo'] == 'Reformas Domésticas' else 0\n",
    "\n",
    "    # Selecionar as colunas numéricas para escalar\n",
    "    cols_to_scale = ['Renda_Anual', 'Anos_no_Emprego', 'Grau_Emprestimo', \n",
    "                     'Valor', 'Taxa_Juros', 'Comprometimento_Renda', \n",
    "                     'Inadimplencia_Historica']\n",
    "    \n",
    "    # Aplicar o scaler às colunas selecionadas\n",
    "    new_data[cols_to_scale] = scaler.transform(new_data[cols_to_scale])\n",
    "    \n",
    "    # Reorganizar as colunas para corresponder ao seu DF original\n",
    "    column_order = ['Renda_Anual', 'Anos_no_Emprego', 'Grau_Emprestimo', 'Valor', \n",
    "                    'Taxa_Juros', 'Comprometimento_Renda', 'Inadimplencia_Historica'] + \\\n",
    "                   [col for col in new_data.columns if col not in ['Renda_Anual', 'Anos_no_Emprego', \n",
    "                                                                     'Grau_Emprestimo', 'Valor', \n",
    "                                                                     'Taxa_Juros', 'Comprometimento_Renda', \n",
    "                                                                     'Inadimplencia_Historica']]\n",
    "    new_data = new_data[column_order]\n",
    "    \n",
    "    new_data = new_data.drop('Tipo_Moradia', axis=1)\n",
    "    new_data = new_data.drop('Motivo_Emprestimo', axis=1)\n",
    "    \n",
    "    return new_data\n",
    "\n",
    "\n",
    "# Processar os novos dados\n",
    "preprocessed_data = preprocess_new_data(novos_dados)\n",
    "print(preprocessed_data)"
   ]
  },
  {
   "cell_type": "code",
   "execution_count": 126,
   "metadata": {},
   "outputs": [
    {
     "data": {
      "text/html": [
       "<div>\n",
       "<style scoped>\n",
       "    .dataframe tbody tr th:only-of-type {\n",
       "        vertical-align: middle;\n",
       "    }\n",
       "\n",
       "    .dataframe tbody tr th {\n",
       "        vertical-align: top;\n",
       "    }\n",
       "\n",
       "    .dataframe thead th {\n",
       "        text-align: right;\n",
       "    }\n",
       "</style>\n",
       "<table border=\"1\" class=\"dataframe\">\n",
       "  <thead>\n",
       "    <tr style=\"text-align: right;\">\n",
       "      <th></th>\n",
       "      <th>Renda_Anual</th>\n",
       "      <th>Anos_no_Emprego</th>\n",
       "      <th>Grau_Emprestimo</th>\n",
       "      <th>Valor</th>\n",
       "      <th>Taxa_Juros</th>\n",
       "      <th>Comprometimento_Renda</th>\n",
       "      <th>Inadimplencia_Historica</th>\n",
       "      <th>Tipo_Moradia_Hipoteca</th>\n",
       "      <th>Tipo_Moradia_Outro</th>\n",
       "      <th>Tipo_Moradia_Próprio</th>\n",
       "      <th>Motivo_Emprestimo_Educação</th>\n",
       "      <th>Motivo_Emprestimo_Empreendimento</th>\n",
       "      <th>Motivo_Emprestimo_Médico</th>\n",
       "      <th>Motivo_Emprestimo_Pessoal</th>\n",
       "      <th>Motivo_Emprestimo_Reformas Domésticas</th>\n",
       "    </tr>\n",
       "  </thead>\n",
       "  <tbody>\n",
       "    <tr>\n",
       "      <th>0</th>\n",
       "      <td>4.898979</td>\n",
       "      <td>-0.734847</td>\n",
       "      <td>-1.224745</td>\n",
       "      <td>1.837117</td>\n",
       "      <td>3.404791</td>\n",
       "      <td>-1.959592</td>\n",
       "      <td>1.414214</td>\n",
       "      <td>0</td>\n",
       "      <td>0</td>\n",
       "      <td>1</td>\n",
       "      <td>0</td>\n",
       "      <td>1</td>\n",
       "      <td>0</td>\n",
       "      <td>0</td>\n",
       "      <td>0</td>\n",
       "    </tr>\n",
       "  </tbody>\n",
       "</table>\n",
       "</div>"
      ],
      "text/plain": [
       "   Renda_Anual  Anos_no_Emprego  Grau_Emprestimo     Valor  Taxa_Juros  \\\n",
       "0     4.898979        -0.734847        -1.224745  1.837117    3.404791   \n",
       "\n",
       "   Comprometimento_Renda  Inadimplencia_Historica  Tipo_Moradia_Hipoteca  \\\n",
       "0              -1.959592                 1.414214                      0   \n",
       "\n",
       "   Tipo_Moradia_Outro  Tipo_Moradia_Próprio  Motivo_Emprestimo_Educação  \\\n",
       "0                   0                     1                           0   \n",
       "\n",
       "   Motivo_Emprestimo_Empreendimento  Motivo_Emprestimo_Médico  \\\n",
       "0                                 1                         0   \n",
       "\n",
       "   Motivo_Emprestimo_Pessoal  Motivo_Emprestimo_Reformas Domésticas  \n",
       "0                          0                                      0  "
      ]
     },
     "execution_count": 126,
     "metadata": {},
     "output_type": "execute_result"
    }
   ],
   "source": [
    "preprocessed_data"
   ]
  },
  {
   "cell_type": "code",
   "execution_count": 127,
   "metadata": {},
   "outputs": [
    {
     "data": {
      "text/html": [
       "<style>#sk-container-id-4 {color: black;background-color: white;}#sk-container-id-4 pre{padding: 0;}#sk-container-id-4 div.sk-toggleable {background-color: white;}#sk-container-id-4 label.sk-toggleable__label {cursor: pointer;display: block;width: 100%;margin-bottom: 0;padding: 0.3em;box-sizing: border-box;text-align: center;}#sk-container-id-4 label.sk-toggleable__label-arrow:before {content: \"▸\";float: left;margin-right: 0.25em;color: #696969;}#sk-container-id-4 label.sk-toggleable__label-arrow:hover:before {color: black;}#sk-container-id-4 div.sk-estimator:hover label.sk-toggleable__label-arrow:before {color: black;}#sk-container-id-4 div.sk-toggleable__content {max-height: 0;max-width: 0;overflow: hidden;text-align: left;background-color: #f0f8ff;}#sk-container-id-4 div.sk-toggleable__content pre {margin: 0.2em;color: black;border-radius: 0.25em;background-color: #f0f8ff;}#sk-container-id-4 input.sk-toggleable__control:checked~div.sk-toggleable__content {max-height: 200px;max-width: 100%;overflow: auto;}#sk-container-id-4 input.sk-toggleable__control:checked~label.sk-toggleable__label-arrow:before {content: \"▾\";}#sk-container-id-4 div.sk-estimator input.sk-toggleable__control:checked~label.sk-toggleable__label {background-color: #d4ebff;}#sk-container-id-4 div.sk-label input.sk-toggleable__control:checked~label.sk-toggleable__label {background-color: #d4ebff;}#sk-container-id-4 input.sk-hidden--visually {border: 0;clip: rect(1px 1px 1px 1px);clip: rect(1px, 1px, 1px, 1px);height: 1px;margin: -1px;overflow: hidden;padding: 0;position: absolute;width: 1px;}#sk-container-id-4 div.sk-estimator {font-family: monospace;background-color: #f0f8ff;border: 1px dotted black;border-radius: 0.25em;box-sizing: border-box;margin-bottom: 0.5em;}#sk-container-id-4 div.sk-estimator:hover {background-color: #d4ebff;}#sk-container-id-4 div.sk-parallel-item::after {content: \"\";width: 100%;border-bottom: 1px solid gray;flex-grow: 1;}#sk-container-id-4 div.sk-label:hover label.sk-toggleable__label {background-color: #d4ebff;}#sk-container-id-4 div.sk-serial::before {content: \"\";position: absolute;border-left: 1px solid gray;box-sizing: border-box;top: 0;bottom: 0;left: 50%;z-index: 0;}#sk-container-id-4 div.sk-serial {display: flex;flex-direction: column;align-items: center;background-color: white;padding-right: 0.2em;padding-left: 0.2em;position: relative;}#sk-container-id-4 div.sk-item {position: relative;z-index: 1;}#sk-container-id-4 div.sk-parallel {display: flex;align-items: stretch;justify-content: center;background-color: white;position: relative;}#sk-container-id-4 div.sk-item::before, #sk-container-id-4 div.sk-parallel-item::before {content: \"\";position: absolute;border-left: 1px solid gray;box-sizing: border-box;top: 0;bottom: 0;left: 50%;z-index: -1;}#sk-container-id-4 div.sk-parallel-item {display: flex;flex-direction: column;z-index: 1;position: relative;background-color: white;}#sk-container-id-4 div.sk-parallel-item:first-child::after {align-self: flex-end;width: 50%;}#sk-container-id-4 div.sk-parallel-item:last-child::after {align-self: flex-start;width: 50%;}#sk-container-id-4 div.sk-parallel-item:only-child::after {width: 0;}#sk-container-id-4 div.sk-dashed-wrapped {border: 1px dashed gray;margin: 0 0.4em 0.5em 0.4em;box-sizing: border-box;padding-bottom: 0.4em;background-color: white;}#sk-container-id-4 div.sk-label label {font-family: monospace;font-weight: bold;display: inline-block;line-height: 1.2em;}#sk-container-id-4 div.sk-label-container {text-align: center;}#sk-container-id-4 div.sk-container {/* jupyter's `normalize.less` sets `[hidden] { display: none; }` but bootstrap.min.css set `[hidden] { display: none !important; }` so we also need the `!important` here to be able to override the default hidden behavior on the sphinx rendered scikit-learn.org. See: https://github.com/scikit-learn/scikit-learn/issues/21755 */display: inline-block !important;position: relative;}#sk-container-id-4 div.sk-text-repr-fallback {display: none;}</style><div id=\"sk-container-id-4\" class=\"sk-top-container\"><div class=\"sk-text-repr-fallback\"><pre>AdaBoostClassifier(algorithm=&#x27;SAMME&#x27;,\n",
       "                   base_estimator=DecisionTreeClassifier(max_depth=10,\n",
       "                                                         min_samples_split=3),\n",
       "                   learning_rate=0.5, n_estimators=300)</pre><b>In a Jupyter environment, please rerun this cell to show the HTML representation or trust the notebook. <br />On GitHub, the HTML representation is unable to render, please try loading this page with nbviewer.org.</b></div><div class=\"sk-container\" hidden><div class=\"sk-item sk-dashed-wrapped\"><div class=\"sk-label-container\"><div class=\"sk-label sk-toggleable\"><input class=\"sk-toggleable__control sk-hidden--visually\" id=\"sk-estimator-id-8\" type=\"checkbox\" ><label for=\"sk-estimator-id-8\" class=\"sk-toggleable__label sk-toggleable__label-arrow\">AdaBoostClassifier</label><div class=\"sk-toggleable__content\"><pre>AdaBoostClassifier(algorithm=&#x27;SAMME&#x27;,\n",
       "                   base_estimator=DecisionTreeClassifier(max_depth=10,\n",
       "                                                         min_samples_split=3),\n",
       "                   learning_rate=0.5, n_estimators=300)</pre></div></div></div><div class=\"sk-parallel\"><div class=\"sk-parallel-item\"><div class=\"sk-item\"><div class=\"sk-label-container\"><div class=\"sk-label sk-toggleable\"><input class=\"sk-toggleable__control sk-hidden--visually\" id=\"sk-estimator-id-9\" type=\"checkbox\" ><label for=\"sk-estimator-id-9\" class=\"sk-toggleable__label sk-toggleable__label-arrow\">base_estimator: DecisionTreeClassifier</label><div class=\"sk-toggleable__content\"><pre>DecisionTreeClassifier(max_depth=10, min_samples_split=3)</pre></div></div></div><div class=\"sk-serial\"><div class=\"sk-item\"><div class=\"sk-estimator sk-toggleable\"><input class=\"sk-toggleable__control sk-hidden--visually\" id=\"sk-estimator-id-10\" type=\"checkbox\" ><label for=\"sk-estimator-id-10\" class=\"sk-toggleable__label sk-toggleable__label-arrow\">DecisionTreeClassifier</label><div class=\"sk-toggleable__content\"><pre>DecisionTreeClassifier(max_depth=10, min_samples_split=3)</pre></div></div></div></div></div></div></div></div></div></div>"
      ],
      "text/plain": [
       "AdaBoostClassifier(algorithm='SAMME',\n",
       "                   base_estimator=DecisionTreeClassifier(max_depth=10,\n",
       "                                                         min_samples_split=3),\n",
       "                   learning_rate=0.5, n_estimators=300)"
      ]
     },
     "execution_count": 127,
     "metadata": {},
     "output_type": "execute_result"
    }
   ],
   "source": [
    "melhor_modelo = joblib.load(\"C:/Projetos Pessoais/DataScience/analise_Risco_Credito/models/modelo_v6_adaboost.pkl\")\n",
    "melhor_modelo"
   ]
  },
  {
   "cell_type": "code",
   "execution_count": 128,
   "metadata": {},
   "outputs": [
    {
     "name": "stdout",
     "output_type": "stream",
     "text": [
      "[0]\n",
      "[[0.55043238 0.44956762]]\n"
     ]
    }
   ],
   "source": [
    "# Realizando a previsão \n",
    "nova_previsao = melhor_modelo.predict(preprocessed_data)\n",
    "nova_previsao_proba = melhor_modelo.predict_proba(preprocessed_data)\n",
    "\n",
    "print(nova_previsao)\n",
    "print(nova_previsao_proba)"
   ]
  },
  {
   "cell_type": "code",
   "execution_count": 130,
   "metadata": {},
   "outputs": [],
   "source": [
    "cliente = pd.DataFrame([novos_dados])"
   ]
  },
  {
   "cell_type": "code",
   "execution_count": 139,
   "metadata": {},
   "outputs": [],
   "source": [
    "cliente['Chances Inadimplência'] = round(nova_previsao_proba[0 , 0] * 100,2)"
   ]
  },
  {
   "cell_type": "code",
   "execution_count": 140,
   "metadata": {},
   "outputs": [
    {
     "data": {
      "text/plain": [
       "0.5504323814655815"
      ]
     },
     "execution_count": 140,
     "metadata": {},
     "output_type": "execute_result"
    }
   ],
   "source": [
    "nova_previsao_proba[0 , 0]"
   ]
  },
  {
   "cell_type": "code",
   "execution_count": 141,
   "metadata": {},
   "outputs": [
    {
     "data": {
      "text/html": [
       "<div>\n",
       "<style scoped>\n",
       "    .dataframe tbody tr th:only-of-type {\n",
       "        vertical-align: middle;\n",
       "    }\n",
       "\n",
       "    .dataframe tbody tr th {\n",
       "        vertical-align: top;\n",
       "    }\n",
       "\n",
       "    .dataframe thead th {\n",
       "        text-align: right;\n",
       "    }\n",
       "</style>\n",
       "<table border=\"1\" class=\"dataframe\">\n",
       "  <thead>\n",
       "    <tr style=\"text-align: right;\">\n",
       "      <th></th>\n",
       "      <th>Renda_Anual</th>\n",
       "      <th>Tipo_Moradia</th>\n",
       "      <th>Anos_no_Emprego</th>\n",
       "      <th>Motivo_Emprestimo</th>\n",
       "      <th>Grau_Emprestimo</th>\n",
       "      <th>Valor</th>\n",
       "      <th>Taxa_Juros</th>\n",
       "      <th>Comprometimento_Renda</th>\n",
       "      <th>Inadimplencia_Historica</th>\n",
       "      <th>Chances Inadimplência</th>\n",
       "    </tr>\n",
       "  </thead>\n",
       "  <tbody>\n",
       "    <tr>\n",
       "      <th>0</th>\n",
       "      <td>100000</td>\n",
       "      <td>Própria</td>\n",
       "      <td>7.0</td>\n",
       "      <td>Empreendimento</td>\n",
       "      <td>A</td>\n",
       "      <td>3500</td>\n",
       "      <td>8.78</td>\n",
       "      <td>0.04</td>\n",
       "      <td>Sim</td>\n",
       "      <td>55.04</td>\n",
       "    </tr>\n",
       "  </tbody>\n",
       "</table>\n",
       "</div>"
      ],
      "text/plain": [
       "   Renda_Anual Tipo_Moradia  Anos_no_Emprego Motivo_Emprestimo  \\\n",
       "0       100000      Própria              7.0    Empreendimento   \n",
       "\n",
       "  Grau_Emprestimo  Valor  Taxa_Juros  Comprometimento_Renda  \\\n",
       "0               A   3500        8.78                   0.04   \n",
       "\n",
       "  Inadimplencia_Historica  Chances Inadimplência  \n",
       "0                     Sim                  55.04  "
      ]
     },
     "execution_count": 141,
     "metadata": {},
     "output_type": "execute_result"
    }
   ],
   "source": [
    "cliente"
   ]
  },
  {
   "cell_type": "code",
   "execution_count": null,
   "metadata": {},
   "outputs": [],
   "source": []
  }
 ],
 "metadata": {
  "kernelspec": {
   "display_name": "base",
   "language": "python",
   "name": "python3"
  },
  "language_info": {
   "codemirror_mode": {
    "name": "ipython",
    "version": 3
   },
   "file_extension": ".py",
   "mimetype": "text/x-python",
   "name": "python",
   "nbconvert_exporter": "python",
   "pygments_lexer": "ipython3",
   "version": "3.9.13"
  }
 },
 "nbformat": 4,
 "nbformat_minor": 2
}
